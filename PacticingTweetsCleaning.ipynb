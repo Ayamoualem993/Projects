{
  "nbformat": 4,
  "nbformat_minor": 0,
  "metadata": {
    "colab": {
      "provenance": [],
      "collapsed_sections": []
    },
    "kernelspec": {
      "name": "python3",
      "display_name": "Python 3"
    },
    "language_info": {
      "name": "python"
    }
  },
  "cells": [
    {
      "cell_type": "code",
      "execution_count": null,
      "metadata": {
        "id": "kt3jJv6GQ8am"
      },
      "outputs": [],
      "source": [
        "import os\n",
        "import re\n",
        "import requests\n",
        "import zipfile,io\n",
        "from matplotlib import pyplot as plt\n",
        "import nltk\n",
        "from nltk.corpus import stopwords\n",
        "from nltk.stem.isri import ISRIStemmer\n",
        "import numpy as np\n",
        "import seaborn as sns\n",
        "import pandas as pd\n",
        "from collections import Counter\n",
        "from typing import Callable\n",
        "%matplotlib inline "
      ]
    },
    {
      "cell_type": "code",
      "source": [
        "nltk.download('popular')\n"
      ],
      "metadata": {
        "id": "tAW4Et0fTbV1",
        "colab": {
          "base_uri": "https://localhost:8080/"
        },
        "outputId": "7c65bc9a-98f8-48a8-db45-c098e794ad7b"
      },
      "execution_count": null,
      "outputs": [
        {
          "output_type": "stream",
          "name": "stderr",
          "text": [
            "[nltk_data] Downloading collection 'popular'\n",
            "[nltk_data]    | \n",
            "[nltk_data]    | Downloading package cmudict to /root/nltk_data...\n",
            "[nltk_data]    |   Package cmudict is already up-to-date!\n",
            "[nltk_data]    | Downloading package gazetteers to /root/nltk_data...\n",
            "[nltk_data]    |   Package gazetteers is already up-to-date!\n",
            "[nltk_data]    | Downloading package genesis to /root/nltk_data...\n",
            "[nltk_data]    |   Package genesis is already up-to-date!\n",
            "[nltk_data]    | Downloading package gutenberg to /root/nltk_data...\n",
            "[nltk_data]    |   Package gutenberg is already up-to-date!\n",
            "[nltk_data]    | Downloading package inaugural to /root/nltk_data...\n",
            "[nltk_data]    |   Package inaugural is already up-to-date!\n",
            "[nltk_data]    | Downloading package movie_reviews to\n",
            "[nltk_data]    |     /root/nltk_data...\n",
            "[nltk_data]    |   Package movie_reviews is already up-to-date!\n",
            "[nltk_data]    | Downloading package names to /root/nltk_data...\n",
            "[nltk_data]    |   Package names is already up-to-date!\n",
            "[nltk_data]    | Downloading package shakespeare to /root/nltk_data...\n",
            "[nltk_data]    |   Package shakespeare is already up-to-date!\n",
            "[nltk_data]    | Downloading package stopwords to /root/nltk_data...\n",
            "[nltk_data]    |   Package stopwords is already up-to-date!\n",
            "[nltk_data]    | Downloading package treebank to /root/nltk_data...\n",
            "[nltk_data]    |   Package treebank is already up-to-date!\n",
            "[nltk_data]    | Downloading package twitter_samples to\n",
            "[nltk_data]    |     /root/nltk_data...\n",
            "[nltk_data]    |   Package twitter_samples is already up-to-date!\n",
            "[nltk_data]    | Downloading package omw to /root/nltk_data...\n",
            "[nltk_data]    |   Package omw is already up-to-date!\n",
            "[nltk_data]    | Downloading package omw-1.4 to /root/nltk_data...\n",
            "[nltk_data]    |   Package omw-1.4 is already up-to-date!\n",
            "[nltk_data]    | Downloading package wordnet to /root/nltk_data...\n",
            "[nltk_data]    |   Package wordnet is already up-to-date!\n",
            "[nltk_data]    | Downloading package wordnet2021 to /root/nltk_data...\n",
            "[nltk_data]    |   Package wordnet2021 is already up-to-date!\n",
            "[nltk_data]    | Downloading package wordnet31 to /root/nltk_data...\n",
            "[nltk_data]    |   Package wordnet31 is already up-to-date!\n",
            "[nltk_data]    | Downloading package wordnet_ic to /root/nltk_data...\n",
            "[nltk_data]    |   Package wordnet_ic is already up-to-date!\n",
            "[nltk_data]    | Downloading package words to /root/nltk_data...\n",
            "[nltk_data]    |   Package words is already up-to-date!\n",
            "[nltk_data]    | Downloading package maxent_ne_chunker to\n",
            "[nltk_data]    |     /root/nltk_data...\n",
            "[nltk_data]    |   Package maxent_ne_chunker is already up-to-date!\n",
            "[nltk_data]    | Downloading package punkt to /root/nltk_data...\n",
            "[nltk_data]    |   Package punkt is already up-to-date!\n",
            "[nltk_data]    | Downloading package snowball_data to\n",
            "[nltk_data]    |     /root/nltk_data...\n",
            "[nltk_data]    |   Package snowball_data is already up-to-date!\n",
            "[nltk_data]    | Downloading package averaged_perceptron_tagger to\n",
            "[nltk_data]    |     /root/nltk_data...\n",
            "[nltk_data]    |   Package averaged_perceptron_tagger is already up-\n",
            "[nltk_data]    |       to-date!\n",
            "[nltk_data]    | \n",
            "[nltk_data]  Done downloading collection popular\n"
          ]
        },
        {
          "output_type": "execute_result",
          "data": {
            "text/plain": [
              "True"
            ]
          },
          "metadata": {},
          "execution_count": 62
        }
      ]
    },
    {
      "cell_type": "code",
      "source": [
        "data_dir = os.path.join(os.curdir, \"data\")\n",
        "tweets_dir = os.path.join(data_dir, \"arsentd-lev\")"
      ],
      "metadata": {
        "id": "vIppjaYTw-ml"
      },
      "execution_count": null,
      "outputs": []
    },
    {
      "cell_type": "code",
      "source": [
        "link=\"http://oma-project.com/ArSenL/ArSenTD-LEV.zip\"\n",
        "response=requests.get(link)\n"
      ],
      "metadata": {
        "id": "cFJOg61IINHu"
      },
      "execution_count": null,
      "outputs": []
    },
    {
      "cell_type": "code",
      "source": [
        "\n",
        "z = zipfile.ZipFile(io.BytesIO(response.content))\n",
        "z.extractall(tweets_dir)\n",
        "os.listdir(tweets_dir)"
      ],
      "metadata": {
        "colab": {
          "base_uri": "https://localhost:8080/"
        },
        "id": "vLQCoDzxZ5yT",
        "outputId": "2456bbf6-99b2-48ff-dcce-0c7763e995b0"
      },
      "execution_count": null,
      "outputs": [
        {
          "output_type": "execute_result",
          "data": {
            "text/plain": [
              "['ArSenTD-LEV.tsv', 'README.txt']"
            ]
          },
          "metadata": {},
          "execution_count": 65
        }
      ]
    },
    {
      "cell_type": "code",
      "source": [
        "raw_filepath=os.path.join(tweets_dir,'ArSenTD-LEV.tsv')\n",
        "raw = pd.read_csv(filepath_or_buffer=raw_filepath, sep=\"\\t\", encoding=\"utf_8\")"
      ],
      "metadata": {
        "id": "Wp2QFvgpcB6S"
      },
      "execution_count": null,
      "outputs": []
    },
    {
      "cell_type": "code",
      "source": [
        "raw.head()"
      ],
      "metadata": {
        "colab": {
          "base_uri": "https://localhost:8080/",
          "height": 206
        },
        "id": "_MRofp7Gg-68",
        "outputId": "b6ffcc6c-f527-4274-bd6b-76ff89a2129f"
      },
      "execution_count": null,
      "outputs": [
        {
          "output_type": "execute_result",
          "data": {
            "text/plain": [
              "                                               Tweet    Country     Topic  \\\n",
              "0  \"أنا أؤمن بأن الانسان ينطفئ جماله عند ابتعاد م...    lebanon  personal   \n",
              "1  من الذاكره... @3FInQe . عندما اعتقد كريستيانو ...     jordan    sports   \n",
              "2  لا نخلو من ضغوطات الحياة. فنحن نعيش على أرض أع...  palestine  personal   \n",
              "3  #مصطلحات_لبنانيه_حيرت_البشريه بتوصل عالبيت ، ب...    lebanon  personal   \n",
              "4  نصمت !! لتسير حياتنا على مً يرام فالناّس لم تع...  palestine  personal   \n",
              "\n",
              "  Sentiment Sentiment_Expression     Sentiment_Target  \n",
              "0  negative             implicit          بريق العيون  \n",
              "1  positive             explicit  افضل لاعب في العالم  \n",
              "2   neutral                 none                 none  \n",
              "3  negative             explicit      مصطلحات_لبنانيه  \n",
              "4  negative             explicit       س لم تعد كما ك  "
            ],
            "text/html": [
              "\n",
              "  <div id=\"df-448d5af6-fdf2-4313-8238-ccddba6d407c\">\n",
              "    <div class=\"colab-df-container\">\n",
              "      <div>\n",
              "<style scoped>\n",
              "    .dataframe tbody tr th:only-of-type {\n",
              "        vertical-align: middle;\n",
              "    }\n",
              "\n",
              "    .dataframe tbody tr th {\n",
              "        vertical-align: top;\n",
              "    }\n",
              "\n",
              "    .dataframe thead th {\n",
              "        text-align: right;\n",
              "    }\n",
              "</style>\n",
              "<table border=\"1\" class=\"dataframe\">\n",
              "  <thead>\n",
              "    <tr style=\"text-align: right;\">\n",
              "      <th></th>\n",
              "      <th>Tweet</th>\n",
              "      <th>Country</th>\n",
              "      <th>Topic</th>\n",
              "      <th>Sentiment</th>\n",
              "      <th>Sentiment_Expression</th>\n",
              "      <th>Sentiment_Target</th>\n",
              "    </tr>\n",
              "  </thead>\n",
              "  <tbody>\n",
              "    <tr>\n",
              "      <th>0</th>\n",
              "      <td>\"أنا أؤمن بأن الانسان ينطفئ جماله عند ابتعاد م...</td>\n",
              "      <td>lebanon</td>\n",
              "      <td>personal</td>\n",
              "      <td>negative</td>\n",
              "      <td>implicit</td>\n",
              "      <td>بريق العيون</td>\n",
              "    </tr>\n",
              "    <tr>\n",
              "      <th>1</th>\n",
              "      <td>من الذاكره... @3FInQe . عندما اعتقد كريستيانو ...</td>\n",
              "      <td>jordan</td>\n",
              "      <td>sports</td>\n",
              "      <td>positive</td>\n",
              "      <td>explicit</td>\n",
              "      <td>افضل لاعب في العالم</td>\n",
              "    </tr>\n",
              "    <tr>\n",
              "      <th>2</th>\n",
              "      <td>لا نخلو من ضغوطات الحياة. فنحن نعيش على أرض أع...</td>\n",
              "      <td>palestine</td>\n",
              "      <td>personal</td>\n",
              "      <td>neutral</td>\n",
              "      <td>none</td>\n",
              "      <td>none</td>\n",
              "    </tr>\n",
              "    <tr>\n",
              "      <th>3</th>\n",
              "      <td>#مصطلحات_لبنانيه_حيرت_البشريه بتوصل عالبيت ، ب...</td>\n",
              "      <td>lebanon</td>\n",
              "      <td>personal</td>\n",
              "      <td>negative</td>\n",
              "      <td>explicit</td>\n",
              "      <td>مصطلحات_لبنانيه</td>\n",
              "    </tr>\n",
              "    <tr>\n",
              "      <th>4</th>\n",
              "      <td>نصمت !! لتسير حياتنا على مً يرام فالناّس لم تع...</td>\n",
              "      <td>palestine</td>\n",
              "      <td>personal</td>\n",
              "      <td>negative</td>\n",
              "      <td>explicit</td>\n",
              "      <td>س لم تعد كما ك</td>\n",
              "    </tr>\n",
              "  </tbody>\n",
              "</table>\n",
              "</div>\n",
              "      <button class=\"colab-df-convert\" onclick=\"convertToInteractive('df-448d5af6-fdf2-4313-8238-ccddba6d407c')\"\n",
              "              title=\"Convert this dataframe to an interactive table.\"\n",
              "              style=\"display:none;\">\n",
              "        \n",
              "  <svg xmlns=\"http://www.w3.org/2000/svg\" height=\"24px\"viewBox=\"0 0 24 24\"\n",
              "       width=\"24px\">\n",
              "    <path d=\"M0 0h24v24H0V0z\" fill=\"none\"/>\n",
              "    <path d=\"M18.56 5.44l.94 2.06.94-2.06 2.06-.94-2.06-.94-.94-2.06-.94 2.06-2.06.94zm-11 1L8.5 8.5l.94-2.06 2.06-.94-2.06-.94L8.5 2.5l-.94 2.06-2.06.94zm10 10l.94 2.06.94-2.06 2.06-.94-2.06-.94-.94-2.06-.94 2.06-2.06.94z\"/><path d=\"M17.41 7.96l-1.37-1.37c-.4-.4-.92-.59-1.43-.59-.52 0-1.04.2-1.43.59L10.3 9.45l-7.72 7.72c-.78.78-.78 2.05 0 2.83L4 21.41c.39.39.9.59 1.41.59.51 0 1.02-.2 1.41-.59l7.78-7.78 2.81-2.81c.8-.78.8-2.07 0-2.86zM5.41 20L4 18.59l7.72-7.72 1.47 1.35L5.41 20z\"/>\n",
              "  </svg>\n",
              "      </button>\n",
              "      \n",
              "  <style>\n",
              "    .colab-df-container {\n",
              "      display:flex;\n",
              "      flex-wrap:wrap;\n",
              "      gap: 12px;\n",
              "    }\n",
              "\n",
              "    .colab-df-convert {\n",
              "      background-color: #E8F0FE;\n",
              "      border: none;\n",
              "      border-radius: 50%;\n",
              "      cursor: pointer;\n",
              "      display: none;\n",
              "      fill: #1967D2;\n",
              "      height: 32px;\n",
              "      padding: 0 0 0 0;\n",
              "      width: 32px;\n",
              "    }\n",
              "\n",
              "    .colab-df-convert:hover {\n",
              "      background-color: #E2EBFA;\n",
              "      box-shadow: 0px 1px 2px rgba(60, 64, 67, 0.3), 0px 1px 3px 1px rgba(60, 64, 67, 0.15);\n",
              "      fill: #174EA6;\n",
              "    }\n",
              "\n",
              "    [theme=dark] .colab-df-convert {\n",
              "      background-color: #3B4455;\n",
              "      fill: #D2E3FC;\n",
              "    }\n",
              "\n",
              "    [theme=dark] .colab-df-convert:hover {\n",
              "      background-color: #434B5C;\n",
              "      box-shadow: 0px 1px 3px 1px rgba(0, 0, 0, 0.15);\n",
              "      filter: drop-shadow(0px 1px 2px rgba(0, 0, 0, 0.3));\n",
              "      fill: #FFFFFF;\n",
              "    }\n",
              "  </style>\n",
              "\n",
              "      <script>\n",
              "        const buttonEl =\n",
              "          document.querySelector('#df-448d5af6-fdf2-4313-8238-ccddba6d407c button.colab-df-convert');\n",
              "        buttonEl.style.display =\n",
              "          google.colab.kernel.accessAllowed ? 'block' : 'none';\n",
              "\n",
              "        async function convertToInteractive(key) {\n",
              "          const element = document.querySelector('#df-448d5af6-fdf2-4313-8238-ccddba6d407c');\n",
              "          const dataTable =\n",
              "            await google.colab.kernel.invokeFunction('convertToInteractive',\n",
              "                                                     [key], {});\n",
              "          if (!dataTable) return;\n",
              "\n",
              "          const docLinkHtml = 'Like what you see? Visit the ' +\n",
              "            '<a target=\"_blank\" href=https://colab.research.google.com/notebooks/data_table.ipynb>data table notebook</a>'\n",
              "            + ' to learn more about interactive tables.';\n",
              "          element.innerHTML = '';\n",
              "          dataTable['output_type'] = 'display_data';\n",
              "          await google.colab.output.renderOutput(dataTable, element);\n",
              "          const docLink = document.createElement('div');\n",
              "          docLink.innerHTML = docLinkHtml;\n",
              "          element.appendChild(docLink);\n",
              "        }\n",
              "      </script>\n",
              "    </div>\n",
              "  </div>\n",
              "  "
            ]
          },
          "metadata": {},
          "execution_count": 67
        }
      ]
    },
    {
      "cell_type": "markdown",
      "source": [
        "**Explority Data Analysis**"
      ],
      "metadata": {
        "id": "DXUzs9Gah8z6"
      }
    },
    {
      "cell_type": "code",
      "source": [
        "data=raw.copy(deep=True)"
      ],
      "metadata": {
        "id": "6832jKSbdcYr"
      },
      "execution_count": null,
      "outputs": []
    },
    {
      "cell_type": "code",
      "source": [
        "data['Sentiment'].value_counts()"
      ],
      "metadata": {
        "colab": {
          "base_uri": "https://localhost:8080/"
        },
        "id": "H8P4omHuiikI",
        "outputId": "2d3bc923-1c1b-42b2-d5cc-c18dcd823134"
      },
      "execution_count": null,
      "outputs": [
        {
          "output_type": "execute_result",
          "data": {
            "text/plain": [
              "negative         1253\n",
              "neutral           885\n",
              "positive          835\n",
              "very_negative     630\n",
              "very_positive     397\n",
              "Name: Sentiment, dtype: int64"
            ]
          },
          "metadata": {},
          "execution_count": 69
        }
      ]
    },
    {
      "cell_type": "code",
      "source": [
        "data['Sentiment']=data['Sentiment'].replace(\n",
        "    {'very_negative':'negative',\n",
        "    'very_positive':'positive'}\n",
        ")"
      ],
      "metadata": {
        "id": "JEpV0CzGi8gz"
      },
      "execution_count": null,
      "outputs": []
    },
    {
      "cell_type": "code",
      "source": [
        "data['Sentiment'].value_counts()"
      ],
      "metadata": {
        "colab": {
          "base_uri": "https://localhost:8080/"
        },
        "id": "snLj7sCDlVwG",
        "outputId": "91684749-daa3-4882-c31b-debe1be14e53"
      },
      "execution_count": null,
      "outputs": [
        {
          "output_type": "execute_result",
          "data": {
            "text/plain": [
              "negative    1883\n",
              "positive    1232\n",
              "neutral      885\n",
              "Name: Sentiment, dtype: int64"
            ]
          },
          "metadata": {},
          "execution_count": 71
        }
      ]
    },
    {
      "cell_type": "code",
      "source": [
        "sentiment_count=data.groupby(by='Sentiment',as_index=False).count()[['Sentiment','Tweet']]"
      ],
      "metadata": {
        "id": "fUSU2SXllepC"
      },
      "execution_count": null,
      "outputs": []
    },
    {
      "cell_type": "code",
      "source": [
        "sentiment_count"
      ],
      "metadata": {
        "colab": {
          "base_uri": "https://localhost:8080/",
          "height": 143
        },
        "id": "ob2n5lbSod7f",
        "outputId": "b20029b7-0d7b-4379-9002-24cb2b7a53ba"
      },
      "execution_count": null,
      "outputs": [
        {
          "output_type": "execute_result",
          "data": {
            "text/plain": [
              "  Sentiment  Tweet\n",
              "0  negative   1883\n",
              "1   neutral    885\n",
              "2  positive   1232"
            ],
            "text/html": [
              "\n",
              "  <div id=\"df-119af499-e372-45ea-9e7f-2de46d019009\">\n",
              "    <div class=\"colab-df-container\">\n",
              "      <div>\n",
              "<style scoped>\n",
              "    .dataframe tbody tr th:only-of-type {\n",
              "        vertical-align: middle;\n",
              "    }\n",
              "\n",
              "    .dataframe tbody tr th {\n",
              "        vertical-align: top;\n",
              "    }\n",
              "\n",
              "    .dataframe thead th {\n",
              "        text-align: right;\n",
              "    }\n",
              "</style>\n",
              "<table border=\"1\" class=\"dataframe\">\n",
              "  <thead>\n",
              "    <tr style=\"text-align: right;\">\n",
              "      <th></th>\n",
              "      <th>Sentiment</th>\n",
              "      <th>Tweet</th>\n",
              "    </tr>\n",
              "  </thead>\n",
              "  <tbody>\n",
              "    <tr>\n",
              "      <th>0</th>\n",
              "      <td>negative</td>\n",
              "      <td>1883</td>\n",
              "    </tr>\n",
              "    <tr>\n",
              "      <th>1</th>\n",
              "      <td>neutral</td>\n",
              "      <td>885</td>\n",
              "    </tr>\n",
              "    <tr>\n",
              "      <th>2</th>\n",
              "      <td>positive</td>\n",
              "      <td>1232</td>\n",
              "    </tr>\n",
              "  </tbody>\n",
              "</table>\n",
              "</div>\n",
              "      <button class=\"colab-df-convert\" onclick=\"convertToInteractive('df-119af499-e372-45ea-9e7f-2de46d019009')\"\n",
              "              title=\"Convert this dataframe to an interactive table.\"\n",
              "              style=\"display:none;\">\n",
              "        \n",
              "  <svg xmlns=\"http://www.w3.org/2000/svg\" height=\"24px\"viewBox=\"0 0 24 24\"\n",
              "       width=\"24px\">\n",
              "    <path d=\"M0 0h24v24H0V0z\" fill=\"none\"/>\n",
              "    <path d=\"M18.56 5.44l.94 2.06.94-2.06 2.06-.94-2.06-.94-.94-2.06-.94 2.06-2.06.94zm-11 1L8.5 8.5l.94-2.06 2.06-.94-2.06-.94L8.5 2.5l-.94 2.06-2.06.94zm10 10l.94 2.06.94-2.06 2.06-.94-2.06-.94-.94-2.06-.94 2.06-2.06.94z\"/><path d=\"M17.41 7.96l-1.37-1.37c-.4-.4-.92-.59-1.43-.59-.52 0-1.04.2-1.43.59L10.3 9.45l-7.72 7.72c-.78.78-.78 2.05 0 2.83L4 21.41c.39.39.9.59 1.41.59.51 0 1.02-.2 1.41-.59l7.78-7.78 2.81-2.81c.8-.78.8-2.07 0-2.86zM5.41 20L4 18.59l7.72-7.72 1.47 1.35L5.41 20z\"/>\n",
              "  </svg>\n",
              "      </button>\n",
              "      \n",
              "  <style>\n",
              "    .colab-df-container {\n",
              "      display:flex;\n",
              "      flex-wrap:wrap;\n",
              "      gap: 12px;\n",
              "    }\n",
              "\n",
              "    .colab-df-convert {\n",
              "      background-color: #E8F0FE;\n",
              "      border: none;\n",
              "      border-radius: 50%;\n",
              "      cursor: pointer;\n",
              "      display: none;\n",
              "      fill: #1967D2;\n",
              "      height: 32px;\n",
              "      padding: 0 0 0 0;\n",
              "      width: 32px;\n",
              "    }\n",
              "\n",
              "    .colab-df-convert:hover {\n",
              "      background-color: #E2EBFA;\n",
              "      box-shadow: 0px 1px 2px rgba(60, 64, 67, 0.3), 0px 1px 3px 1px rgba(60, 64, 67, 0.15);\n",
              "      fill: #174EA6;\n",
              "    }\n",
              "\n",
              "    [theme=dark] .colab-df-convert {\n",
              "      background-color: #3B4455;\n",
              "      fill: #D2E3FC;\n",
              "    }\n",
              "\n",
              "    [theme=dark] .colab-df-convert:hover {\n",
              "      background-color: #434B5C;\n",
              "      box-shadow: 0px 1px 3px 1px rgba(0, 0, 0, 0.15);\n",
              "      filter: drop-shadow(0px 1px 2px rgba(0, 0, 0, 0.3));\n",
              "      fill: #FFFFFF;\n",
              "    }\n",
              "  </style>\n",
              "\n",
              "      <script>\n",
              "        const buttonEl =\n",
              "          document.querySelector('#df-119af499-e372-45ea-9e7f-2de46d019009 button.colab-df-convert');\n",
              "        buttonEl.style.display =\n",
              "          google.colab.kernel.accessAllowed ? 'block' : 'none';\n",
              "\n",
              "        async function convertToInteractive(key) {\n",
              "          const element = document.querySelector('#df-119af499-e372-45ea-9e7f-2de46d019009');\n",
              "          const dataTable =\n",
              "            await google.colab.kernel.invokeFunction('convertToInteractive',\n",
              "                                                     [key], {});\n",
              "          if (!dataTable) return;\n",
              "\n",
              "          const docLinkHtml = 'Like what you see? Visit the ' +\n",
              "            '<a target=\"_blank\" href=https://colab.research.google.com/notebooks/data_table.ipynb>data table notebook</a>'\n",
              "            + ' to learn more about interactive tables.';\n",
              "          element.innerHTML = '';\n",
              "          dataTable['output_type'] = 'display_data';\n",
              "          await google.colab.output.renderOutput(dataTable, element);\n",
              "          const docLink = document.createElement('div');\n",
              "          docLink.innerHTML = docLinkHtml;\n",
              "          element.appendChild(docLink);\n",
              "        }\n",
              "      </script>\n",
              "    </div>\n",
              "  </div>\n",
              "  "
            ]
          },
          "metadata": {},
          "execution_count": 73
        }
      ]
    },
    {
      "cell_type": "code",
      "source": [
        "fig,ax=plt.subplots(figsize=(15,12))\n",
        "ax.pie(x=sentiment_count['Tweet'],labels=sentiment_count['Sentiment'], autopct='%1.1f%%');"
      ],
      "metadata": {
        "colab": {
          "base_uri": "https://localhost:8080/",
          "height": 683
        },
        "id": "PcFOKwLMotmp",
        "outputId": "23686fd4-8a5f-436b-b878-c187e8351db7"
      },
      "execution_count": null,
      "outputs": [
        {
          "output_type": "display_data",
          "data": {
            "text/plain": [
              "<Figure size 1080x864 with 1 Axes>"
            ],
            "image/png": "[encoded data removed]"
          },
          "metadata": {}
        }
      ]
    },
    {
      "cell_type": "markdown",
      "source": [
        "Common EDA Pattern Text\n",
        "to count the characters\n",
        "to count the the words"
      ],
      "metadata": {
        "id": "vQS3PAVquWE-"
      }
    },
    {
      "cell_type": "code",
      "source": [
        "data['word_count']=data['Tweet'].apply(lambda x:len(x.split(' ')))"
      ],
      "metadata": {
        "id": "hIUOYZyAuPkd"
      },
      "execution_count": null,
      "outputs": []
    },
    {
      "cell_type": "code",
      "source": [
        "data['word_count'].describe()"
      ],
      "metadata": {
        "colab": {
          "base_uri": "https://localhost:8080/"
        },
        "id": "1hdWevFbz6gm",
        "outputId": "d316e317-cf8c-4835-b3ac-d8918b96a2f0"
      },
      "execution_count": null,
      "outputs": [
        {
          "output_type": "execute_result",
          "data": {
            "text/plain": [
              "count    4000.00000\n",
              "mean       22.69825\n",
              "std         3.28495\n",
              "min         7.00000\n",
              "25%        21.00000\n",
              "50%        23.00000\n",
              "75%        25.00000\n",
              "max        35.00000\n",
              "Name: word_count, dtype: float64"
            ]
          },
          "metadata": {},
          "execution_count": 76
        }
      ]
    },
    {
      "cell_type": "code",
      "source": [
        "data['char_count']=data['Tweet'].apply(len)\n",
        "data['char_count'].describe()"
      ],
      "metadata": {
        "colab": {
          "base_uri": "https://localhost:8080/"
        },
        "id": "Zt1P8q2x0Brf",
        "outputId": "fa709b23-4664-475a-ea1c-83bfc2290c86"
      },
      "execution_count": null,
      "outputs": [
        {
          "output_type": "execute_result",
          "data": {
            "text/plain": [
              "count    4000.000000\n",
              "mean      131.364250\n",
              "std        14.314636\n",
              "min        42.000000\n",
              "25%       128.000000\n",
              "50%       138.000000\n",
              "75%       140.000000\n",
              "max       147.000000\n",
              "Name: char_count, dtype: float64"
            ]
          },
          "metadata": {},
          "execution_count": 77
        }
      ]
    },
    {
      "cell_type": "markdown",
      "source": [
        "**Vocabulary**"
      ],
      "metadata": {
        "id": "f8l5vsmyt-WL"
      }
    },
    {
      "cell_type": "code",
      "source": [
        "all_words=[word for tweet in data['Tweet']for word in tweet.split(\" \")]\n",
        "vocab=Counter(all_words)\n",
        "len(vocab)"
      ],
      "metadata": {
        "id": "Z3_xNuhXsqT5",
        "colab": {
          "base_uri": "https://localhost:8080/"
        },
        "outputId": "d57644b2-8a62-48c6-af00-e2a48e3da694"
      },
      "execution_count": null,
      "outputs": [
        {
          "output_type": "execute_result",
          "data": {
            "text/plain": [
              "26552"
            ]
          },
          "metadata": {},
          "execution_count": 78
        }
      ]
    },
    {
      "cell_type": "markdown",
      "source": [
        "**Explore most and least Common words in vocab**"
      ],
      "metadata": {
        "id": "JLSIrIfEwsyx"
      }
    },
    {
      "cell_type": "code",
      "source": [
        "print('Least_Common')\n",
        "vocab.most_common()[-10:]\n"
      ],
      "metadata": {
        "colab": {
          "base_uri": "https://localhost:8080/"
        },
        "id": "EdFfYDmqwoE3",
        "outputId": "8ef863aa-acb6-4932-adc2-b9658985ee2f"
      },
      "execution_count": null,
      "outputs": [
        {
          "output_type": "stream",
          "name": "stdout",
          "text": [
            "Least_Common\n"
          ]
        },
        {
          "output_type": "execute_result",
          "data": {
            "text/plain": [
              "[('الريحة', 1),\n",
              " ('نقلاً', 1),\n",
              " ('مباشراً', 1),\n",
              " ('نشرة', 1),\n",
              " ('الرياضية', 1),\n",
              " ('8:30', 1),\n",
              " ('\"العرب\"', 1),\n",
              " ('حمود', 1),\n",
              " ('📍', 1),\n",
              " ('https://t.co/oUstA9G7dM', 1)]"
            ]
          },
          "metadata": {},
          "execution_count": 79
        }
      ]
    },
    {
      "cell_type": "code",
      "source": [
        "print('Most_Common')\n",
        "vocab.most_common(10)"
      ],
      "metadata": {
        "colab": {
          "base_uri": "https://localhost:8080/"
        },
        "id": "YUERgWMPxlFC",
        "outputId": "ca01ff61-a741-4d85-d1c7-2041a477102f"
      },
      "execution_count": null,
      "outputs": [
        {
          "output_type": "stream",
          "name": "stdout",
          "text": [
            "Most_Common\n"
          ]
        },
        {
          "output_type": "execute_result",
          "data": {
            "text/plain": [
              "[('من', 1906),\n",
              " ('في', 1610),\n",
              " ('.', 1105),\n",
              " ('و', 963),\n",
              " ('على', 913),\n",
              " ('الله', 787),\n",
              " ('ما', 769),\n",
              " ('لا', 656),\n",
              " ('،', 589),\n",
              " ('كل', 493)]"
            ]
          },
          "metadata": {},
          "execution_count": 80
        }
      ]
    },
    {
      "cell_type": "code",
      "source": [
        "counts=list(vocab.values())"
      ],
      "metadata": {
        "id": "SAgzOf-r-61u"
      },
      "execution_count": null,
      "outputs": []
    },
    {
      "cell_type": "code",
      "source": [
        "fig,ax=plt.subplots(figsize=(15,12))\n",
        "sns.boxplot(y=counts,ax=ax)\n",
        "ax.set_title(\"Word_Count\")"
      ],
      "metadata": {
        "colab": {
          "base_uri": "https://localhost:8080/",
          "height": 720
        },
        "id": "HMphoYyNkvsg",
        "outputId": "40b4a7f3-ce8c-47ea-af65-9769c89ae2e2"
      },
      "execution_count": null,
      "outputs": [
        {
          "output_type": "execute_result",
          "data": {
            "text/plain": [
              "Text(0.5, 1.0, 'Word_Count')"
            ]
          },
          "metadata": {},
          "execution_count": 82
        },
        {
          "output_type": "display_data",
          "data": {
            "text/plain": [
              "<Figure size 1080x864 with 1 Axes>"
            ],
            "image/png": "[encoded data removed]"
          },
          "metadata": {
            "needs_background": "light"
          }
        }
      ]
    },
    {
      "cell_type": "code",
      "source": [
        "stop_words=stopwords.words(\"arabic\")\n",
        "all_words_pruned=[word for tweet in data['Tweet'] for word in tweet.split(\" \")if word not in stop_words]\n"
      ],
      "metadata": {
        "id": "YV_iHF6Rtjz9"
      },
      "execution_count": null,
      "outputs": []
    },
    {
      "cell_type": "code",
      "source": [
        "pruned_vocab=Counter(all_words_pruned)\n",
        "pruned_vocab"
      ],
      "metadata": {
        "colab": {
          "base_uri": "https://localhost:8080/"
        },
        "id": "OtX77Bi2Z8sa",
        "outputId": "75371fb7-c034-4fd2-c48e-78e125bb35ec"
      },
      "execution_count": null,
      "outputs": [
        {
          "output_type": "execute_result",
          "data": {
            "text/plain": [
              "Counter({'\"أنا': 3,\n",
              "         'أؤمن': 2,\n",
              "         'بأن': 32,\n",
              "         'الانسان': 13,\n",
              "         'ينطفئ': 2,\n",
              "         'جماله': 2,\n",
              "         'ابتعاد': 2,\n",
              "         'يحب': 6,\n",
              "         '،': 589,\n",
              "         'بريق': 4,\n",
              "         'العيون': 4,\n",
              "         'يختفي': 2,\n",
              "         'فيصبح': 2,\n",
              "         'ذابلاً': 2,\n",
              "         'منطفئًا،': 2,\n",
              "         'يتحول': 2,\n",
              "         'ربيعه': 2,\n",
              "         'الى': 222,\n",
              "         'خريف.\".': 2,\n",
              "         '@gbraniiat': 2,\n",
              "         'الذاكره...': 2,\n",
              "         '@3FInQe': 2,\n",
              "         '.': 1105,\n",
              "         'عندما': 99,\n",
              "         'اعتقد': 9,\n",
              "         'كريستيانو': 4,\n",
              "         'انه': 76,\n",
              "         'افضل': 27,\n",
              "         'لاعب': 24,\n",
              "         'العالم': 74,\n",
              "         'كاكا': 2,\n",
              "         'ميسي': 8,\n",
              "         'ثالثاً': 2,\n",
              "         'حدث': 13,\n",
              "         'العكس': 3,\n",
              "         '😂😂😂😂😂😂': 2,\n",
              "         'https://t.co/n3EZ0pX0X7': 2,\n",
              "         'نخلو': 2,\n",
              "         'ضغوطات': 5,\n",
              "         'الحياة.': 7,\n",
              "         'فنحن': 8,\n",
              "         'نعيش': 13,\n",
              "         'أرض': 7,\n",
              "         'أعدت': 2,\n",
              "         'للبلاء': 2,\n",
              "         'ولم': 21,\n",
              "         'يسلم': 4,\n",
              "         'الأنبياء...': 2,\n",
              "         'توكل': 7,\n",
              "         'الله': 787,\n",
              "         'دائماً': 8,\n",
              "         'وكن': 6,\n",
              "         'مطمئناً': 2,\n",
              "         'وواثقاً': 2,\n",
              "         'بالله.': 3,\n",
              "         '#مصطلحات_لبنانيه_حيرت_البشريه': 2,\n",
              "         'بتوصل': 2,\n",
              "         'عالبيت': 4,\n",
              "         'بنط': 2,\n",
              "         'بقلك': 6,\n",
              "         '\"جيت؟\"': 2,\n",
              "         ',': 41,\n",
              "         'بتقعد': 3,\n",
              "         'لتتحدث': 2,\n",
              "         'معو': 8,\n",
              "         '\"شو': 2,\n",
              "         'في؟\"،': 2,\n",
              "         'بتقوم': 2,\n",
              "         'لتمشي': 3,\n",
              "         '\"ناسي': 2,\n",
              "         'شي؟\"': 2,\n",
              "         '🤔': 9,\n",
              "         'نصمت': 6,\n",
              "         '!!': 33,\n",
              "         'لتسير': 2,\n",
              "         'حياتنا': 19,\n",
              "         'مً': 2,\n",
              "         'يرام': 2,\n",
              "         'فالناّس': 2,\n",
              "         'تعد': 8,\n",
              "         'كآنت': 2,\n",
              "         '\"': 76,\n",
              "         'نقيه': 2,\n",
              "         'يرأس': 1,\n",
              "         'صاحب': 21,\n",
              "         'السمو': 11,\n",
              "         'الملكي': 13,\n",
              "         'الامير': 19,\n",
              "         'الدكتور': 12,\n",
              "         'حسام': 1,\n",
              "         'بن': 195,\n",
              "         'سعود': 31,\n",
              "         'عبدالعزيز': 18,\n",
              "         'أمير': 14,\n",
              "         'منطقة': 29,\n",
              "         '#الباحة': 1,\n",
              "         'غداً،': 1,\n",
              "         'جلسات': 1,\n",
              "         'مجلس': 25,\n",
              "         'المنطقة': 26,\n",
              "         'دورت…': 1,\n",
              "         'https://t.co/E0ToOoWtvJ': 1,\n",
              "         '@Yousef_MUFC': 1,\n",
              "         'اكثر': 30,\n",
              "         'يزعجنا': 1,\n",
              "         'مستوانا': 1,\n",
              "         'خارج': 12,\n",
              "         'ارضنا': 5,\n",
              "         'تمثيل': 3,\n",
              "         'كونتي': 3,\n",
              "         'فوزه': 5,\n",
              "         'علينا': 40,\n",
              "         'تستسلم': 1,\n",
              "         'للمصاعب': 1,\n",
              "         'والأزمات،': 1,\n",
              "         'تحدَّها': 1,\n",
              "         'بالإيمان': 3,\n",
              "         'والصبر': 1,\n",
              "         'فكل': 1,\n",
              "         'العظماء': 1,\n",
              "         'كافحوا': 1,\n",
              "         'وتحمّلوا': 1,\n",
              "         'المشاقّ': 1,\n",
              "         'وصلوا': 1,\n",
              "         'بلاط': 1,\n",
              "         'المجد': 3,\n",
              "         'وجلسوا': 1,\n",
              "         'النجوم': 4,\n",
              "         'الف': 37,\n",
              "         'مبروك': 37,\n",
              "         'للمنتخب': 12,\n",
              "         'السوري': 39,\n",
              "         'كسب': 5,\n",
              "         'احترام': 7,\n",
              "         'الجميع': 27,\n",
              "         'لعب': 12,\n",
              "         'بروح': 7,\n",
              "         'والعزيمه': 4,\n",
              "         'شكرا': 18,\n",
              "         'شي': 88,\n",
              "         'قدمتوه': 4,\n",
              "         'مدار': 4,\n",
              "         'التصفيات': 6,\n",
              "         'النهايه': 4,\n",
              "         'برغم': 7,\n",
              "         'الظروف': 12,\n",
              "         '#استراليا_سوريا': 5,\n",
              "         'شو': 84,\n",
              "         'حلو': 19,\n",
              "         'الشعور': 2,\n",
              "         'تحاول': 6,\n",
              "         'تدرس': 3,\n",
              "         'مش': 126,\n",
              "         'فاهمو': 1,\n",
              "         'بالصف': 1,\n",
              "         'خصو': 1,\n",
              "         'بشي': 4,\n",
              "         'اسمو': 7,\n",
              "         'شرح': 3,\n",
              "         'تفهم': 3,\n",
              "         'لحالك': 3,\n",
              "         'انو': 81,\n",
              "         'بلا': 43,\n",
              "         'جميلتك': 1,\n",
              "         'دكتور': 7,\n",
              "         '😌': 3,\n",
              "         'قيل': 9,\n",
              "         'لحمدون': 3,\n",
              "         'أحمد': 11,\n",
              "         'رحمه': 13,\n",
              "         'الله:.': 3,\n",
              "         'بال': 5,\n",
              "         'كلام': 53,\n",
              "         'السلف': 5,\n",
              "         'أنفع': 3,\n",
              "         'كلامنا': 3,\n",
              "         '؟.': 26,\n",
              "         'قال:': 5,\n",
              "         'لأنهم': 11,\n",
              "         'تكلموا': 4,\n",
              "         'لعز': 3,\n",
              "         'الإسلام': 15,\n",
              "         'ونجاة': 3,\n",
              "         'النفوس': 6,\n",
              "         'ورض…': 3,\n",
              "         'https://t.co/9ujgGIVlN3': 3,\n",
              "         '🔴': 5,\n",
              "         'كائنا': 4,\n",
              "         '..': 460,\n",
              "         'ينجو': 5,\n",
              "         'شخص': 55,\n",
              "         'دخل': 14,\n",
              "         'قضية': 16,\n",
              "         '#فساد': 7,\n",
              "         'انتهى': 9,\n",
              "         'زمنك': 4,\n",
              "         'المسؤول': 10,\n",
              "         'الفاسد': 5,\n",
              "         'المتلاعب': 4,\n",
              "         'بأنظمة': 4,\n",
              "         'ومقدرات': 4,\n",
              "         'الدولة…': 4,\n",
              "         'https://t.co/Pts8mxqwwW': 2,\n",
              "         '#الاردن_يتقدم.': 1,\n",
              "         'الحكومة': 33,\n",
              "         'الاردنية': 5,\n",
              "         'تعلن': 14,\n",
              "         'اطلاق': 5,\n",
              "         'مشروع': 14,\n",
              "         'المدينة': 8,\n",
              "         'الجديدة': 9,\n",
              "         'نتمى': 1,\n",
              "         'ان': 321,\n",
              "         'يكون': 95,\n",
              "         'التنفيذ': 1,\n",
              "         'https://t.co/7oatmRoykH': 1,\n",
              "         'دمقراطية': 2,\n",
              "         'ترامب': 13,\n",
              "         'السعودية.': 4,\n",
              "         'سرقة': 2,\n",
              "         'الأموال.': 3,\n",
              "         'واسقاط': 2,\n",
              "         'طائرات': 2,\n",
              "         'واعتقالات': 2,\n",
              "         'واغتيالات': 2,\n",
              "         'الشركة': 4,\n",
              "         'المساهمة': 2,\n",
              "         'سلمان': 84,\n",
              "         'وأولاده': 4,\n",
              "         'وترامب': 2,\n",
              "         'يحكم': 5,\n",
              "         'السعودية': 109,\n",
              "         'سيبك': 3,\n",
              "         'معادلات': 2,\n",
              "         'الرياضة': 6,\n",
              "         'والحاجات': 2,\n",
              "         'اللي': 132,\n",
              "         'ملهاش': 2,\n",
              "         'لزمة': 2,\n",
              "         'حياتناممكن': 2,\n",
              "         'اعملكم': 2,\n",
              "         'معادلة': 2,\n",
              "         'تبين': 7,\n",
              "         'اي': 75,\n",
              "         'وجود': 14,\n",
              "         'حدفي': 2,\n",
              "         'حياتك': 17,\n",
              "         'بيحسن': 2,\n",
              "         'نفسيتك': 2,\n",
              "         'ويزود': 2,\n",
              "         'كفائتك': 2,\n",
              "         'بنسبة': 5,\n",
              "         'كام': 4,\n",
              "         'منرجع': 2,\n",
              "         'اصدقائي': 3,\n",
              "         'بالثانوي': 2,\n",
              "         'كنت': 92,\n",
              "         'فكرهم': 2,\n",
              "         'رمادين': 2,\n",
              "         'او': 147,\n",
              "         'شبيحة': 2,\n",
              "         'طلعوا': 2,\n",
              "         'بيكرهوا': 2,\n",
              "         'المنتخب': 43,\n",
              "         'شمتانين': 2,\n",
              "         'هالكم': 2,\n",
              "         'وعامل': 2,\n",
              "         'جمعور': 3,\n",
              "         'منين': 2,\n",
              "         'جي': 5,\n",
              "         '؟': 99,\n",
              "         'رفقاتي': 4,\n",
              "         'يباركولي': 1,\n",
              "         'أغانيك😍': 1,\n",
              "         'كتير': 36,\n",
              "         'فخورة': 5,\n",
              "         'فيك': 30,\n",
              "         'يخليلي': 1,\n",
              "         'ياك❤': 1,\n",
              "         'المزيد': 4,\n",
              "         'التألق': 1,\n",
              "         'النجاح❤❤': 1,\n",
              "         '@josephattieh': 4,\n",
              "         'https://t.co/0jxRou6Iu3': 1,\n",
              "         '@cnnarabic': 2,\n",
              "         'يارب': 52,\n",
              "         'اطفا': 2,\n",
              "         'نار': 11,\n",
              "         'الفتنة': 4,\n",
              "         '/': 26,\n",
              "         'انتبهوا': 3,\n",
              "         'تعيدوا': 2,\n",
              "         'خطا': 2,\n",
              "         'الحرب': 27,\n",
              "         'العراقية': 11,\n",
              "         'الإيرانية': 3,\n",
              "         '/هذه': 2,\n",
              "         'سياسة': 8,\n",
              "         'تظهر': 4,\n",
              "         'قوى': 14,\n",
              "         'الم…': 9,\n",
              "         'https://t.co/CVnKwvbEdc': 2,\n",
              "         'تقليد': 1,\n",
              "         'الآخرين': 4,\n",
              "         'يعني': 80,\n",
              "         'أنّك': 1,\n",
              "         'ستحصل': 1,\n",
              "         'حصلوا': 1,\n",
              "         'ربما': 7,\n",
              "         'يعجبك': 1,\n",
              "         'غيرك': 20,\n",
              "         'فتحاول': 1,\n",
              "         'تكون': 74,\n",
              "         'مثله': 6,\n",
              "         'والله': 105,\n",
              "         'مخبئ': 1,\n",
              "         'الأجمل': 1,\n",
              "         'و…': 25,\n",
              "         'https://t.co/vDXdBIUVmd': 1,\n",
              "         'لماذا': 16,\n",
              "         'تصمت': 1,\n",
              "         'الكلمات': 6,\n",
              "         'شفتيّ': 1,\n",
              "         'القاك.': 2,\n",
              "         'تهرب': 1,\n",
              "         'النظرات': 1,\n",
              "         'عيني': 6,\n",
              "         'شيء': 72,\n",
              "         'حياتي': 13,\n",
              "         'يمسى': 1,\n",
              "         'صورة': 13,\n",
              "         'معنى': 4,\n",
              "         'اهواك': 1,\n",
              "         '#مقاطعه_اوبر_وكريم1': 2,\n",
              "         'انتم': 14,\n",
              "         'تريدون': 2,\n",
              "         'يريدون': 5,\n",
              "         'فعال': 2,\n",
              "         'يريد': 11,\n",
              "         'اللجاء': 2,\n",
              "         'قل': 14,\n",
              "         'رب': 55,\n",
              "         'يخيب': 2,\n",
              "         'ضن': 2,\n",
              "         'بأمره': 2,\n",
              "         'شاء': 27,\n",
              "         '@Bimawdou3ieh': 3,\n",
              "         'تحلّوا': 1,\n",
              "         'بالمسؤولية': 1,\n",
              "         'الوطنيّة!': 1,\n",
              "         'كفّوا': 1,\n",
              "         'اعطائكم': 1,\n",
              "         'الغطاء': 1,\n",
              "         'الأعذار': 1,\n",
              "         'لأي': 10,\n",
              "         'عدوان': 9,\n",
              "         'خارجي': 2,\n",
              "         'لبثّ': 1,\n",
              "         'جوّ': 3,\n",
              "         'الفتن': 8,\n",
              "         'داخلية': 1,\n",
              "         'عبر': 23,\n",
              "         'ضيوف': 1,\n",
              "         '\"الفتنة\"': 1,\n",
              "         '@yara__CR7': 2,\n",
              "         'الاثنين': 4,\n",
              "         'غالين': 1,\n",
              "         'لانو': 4,\n",
              "         'تقريبا': 1,\n",
              "         'اول': 44,\n",
              "         'نادين': 3,\n",
              "         'حبيتهم': 3,\n",
              "         'حتي': 3,\n",
              "         'روح': 20,\n",
              "         'سعودي': 13,\n",
              "         'جبت': 4,\n",
              "         'شيرت': 1,\n",
              "         'الهلال': 21,\n",
              "         '😂😂': 11,\n",
              "         'يتبقى': 1,\n",
              "         'لتنظيم': 1,\n",
              "         'داعش': 24,\n",
              "         'الارهابي': 1,\n",
              "         'الا': 90,\n",
              "         'مدينة': 21,\n",
              "         'صغيرة': 2,\n",
              "         'أعالي': 1,\n",
              "         'نهر': 7,\n",
              "         'الفرات': 2,\n",
              "         'وتحريرها': 1,\n",
              "         'يستغرق': 1,\n",
              "         'ايام': 21,\n",
              "         'الألف': 1,\n",
              "         'المقا…': 1,\n",
              "         'https://t.co/8zQYt64gCr': 1,\n",
              "         'ولي': 23,\n",
              "         'العهد': 17,\n",
              "         'السعودي': 38,\n",
              "         'يتهم': 2,\n",
              "         '#ايران': 20,\n",
              "         'بشن': 2,\n",
              "         '\"عدوان': 2,\n",
              "         'مباشر\"': 2,\n",
              "         'ضد': 54,\n",
              "         'بلاده.': 2,\n",
              "         'https://t.co/Am5vyTJkIA.': 1,\n",
              "         '#السعودية': 49,\n",
              "         '@ii_kk9': 1,\n",
              "         'امي': 9,\n",
              "         'لاأراني': 1,\n",
              "         'مكروها': 1,\n",
              "         'فلتتوقف': 1,\n",
              "         'أنفاسي': 1,\n",
              "         'أنفاسك': 2,\n",
              "         'لاقيمه': 1,\n",
              "         'ولاحياة': 1,\n",
              "         '....': 34,\n",
              "         'اطال': 1,\n",
              "         'عمرك': 3,\n",
              "         '#اللبناني': 1,\n",
              "         'دعوى': 1,\n",
              "         'بالمحكمة.': 1,\n",
              "         'بقول:': 2,\n",
              "         'ملء': 4,\n",
              "         'الثقة': 7,\n",
              "         'بالقضاء.': 1,\n",
              "         'وبس': 4,\n",
              "         'يطلع': 7,\n",
              "         'الحكم': 24,\n",
              "         'لغير': 3,\n",
              "         'صالحه.': 1,\n",
              "         'القضاء': 1,\n",
              "         'مسيس': 1,\n",
              "         'ومسيّر': 1,\n",
              "         '*اليابان*': 2,\n",
              "         '_جرحت': 2,\n",
              "         'الهلال_': 4,\n",
              "         'بـ': 23,\n",
              "         '﴿': 10,\n",
              "         'نيشيمورا': 2,\n",
              "         '﴾': 6,\n",
              "         '_حرمت': 2,\n",
              "         'ادواردو': 4,\n",
              "         'عبد': 41,\n",
              "         'القادر': 2,\n",
              "         'طارق': 8,\n",
              "         'مهاجم': 4,\n",
              "         'الشرطة': 3,\n",
              "         'لISN': 4,\n",
              "         ':': 188,\n",
              "         'خلاف': 3,\n",
              "         'البرازيلي': 2,\n",
              "         'باكيتا': 1,\n",
              "         'ورفضت': 1,\n",
              "         'العروض': 1,\n",
              "         'المحلية': 1,\n",
              "         'والخارجية': 1,\n",
              "         'حبا': 2,\n",
              "         'بالقيثارة…': 1,\n",
              "         'https://t.co/e1hrHoa8St': 1,\n",
              "         'مركز': 4,\n",
              "         'أسرى': 1,\n",
              "         'فلسطين': 29,\n",
              "         'للدراسات:': 1,\n",
              "         'تدهور': 1,\n",
              "         'خطير': 1,\n",
              "         'طرأ': 1,\n",
              "         'صحة': 9,\n",
              "         'الأسير': 4,\n",
              "         'فادي': 1,\n",
              "         'حامد': 1,\n",
              "         'رجب': 1,\n",
              "         'صرصور': 1,\n",
              "         '\"23': 1,\n",
              "         'عاما\"': 2,\n",
              "         'بلدة': 6,\n",
              "         'العيزية': 1,\n",
              "         '#القدس': 2,\n",
              "         'ال…': 58,\n",
              "         'https://t.co/juN4Lrclzu': 1,\n",
              "         'قتلها': 2,\n",
              "         'بهدف': 13,\n",
              "         'السرقة': 4,\n",
              "         'فكانت': 2,\n",
              "         'غلّته': 2,\n",
              "         '20': 25,\n",
              "         'ليرة..': 1,\n",
              "         'منفّذ': 1,\n",
              "         '#جريمة_المعاملتين': 1,\n",
              "         'قبضة': 1,\n",
              "         '#فرع_المعلومات': 1,\n",
              "         'https://t.co/kjcZWp45vD': 1,\n",
              "         'https://t.co/VN1F7Uza3E': 1,\n",
              "         'زوار': 9,\n",
              "         'لقاء': 14,\n",
              "         'الاربعاء': 3,\n",
              "         'النيابي:': 2,\n",
              "         'معلومات': 13,\n",
              "         'امكان': 2,\n",
              "         'قيام': 4,\n",
              "         'الحريري': 124,\n",
              "         'بزيارة': 2,\n",
              "         'سريعة': 4,\n",
              "         'للبنان': 6,\n",
              "         'يقدم': 30,\n",
              "         'استقالته': 25,\n",
              "         'بشكل': 26,\n",
              "         'رسمي': 4,\n",
              "         'خلال': 51,\n",
              "         'الس…': 5,\n",
              "         'https://t.co/9rl30ySkvH': 2,\n",
              "         'مدرب': 12,\n",
              "         'منتخبنا': 7,\n",
              "         'باسم': 15,\n",
              "         'قاسم': 2,\n",
              "         'يستدعي': 1,\n",
              "         'مدافع': 4,\n",
              "         'نادي': 23,\n",
              "         'الزوراء': 3,\n",
              "         'كرار': 1,\n",
              "         'محمد': 90,\n",
              "         'لصفوف': 1,\n",
              "         'https://t.co/Py8R0v4Yws': 1,\n",
              "         '@': 12,\n",
              "         'الأمْل': 2,\n",
              "         'بِالله♥': 2,\n",
              "         'الطمأنينه': 2,\n",
              "         'فِي': 4,\n",
              "         'ظله': 2,\n",
              "         'الثِقَة': 2,\n",
              "         'عنده': 24,\n",
              "         'والرضى': 2,\n",
              "         'گتبه': 2,\n",
              "         '~': 2,\n",
              "         'اللهُم': 10,\n",
              "         'أفتح': 2,\n",
              "         'أبواب': 4,\n",
              "         'الخير': 43,\n",
              "         'ه…': 7,\n",
              "         'https://t.co/Sszjt35bED': 2,\n",
              "         '#العبادي.': 2,\n",
              "         'اعتماد': 1,\n",
              "         'طريقة': 11,\n",
              "         'لتوزيع': 1,\n",
              "         'الموازانة': 1,\n",
              "         'بنسب': 1,\n",
              "         'عادلة': 1,\n",
              "         'لكل': 36,\n",
              "         'الشعب': 45,\n",
              "         'طريق': 10,\n",
              "         'عدد': 19,\n",
              "         'سكان': 2,\n",
              "         'محافظة': 11,\n",
              "         'ونسبة': 1,\n",
              "         '17%': 1,\n",
              "         'قانون': 10,\n",
              "         'ثابت': 3,\n",
              "         'وقابلة': 1,\n",
              "         'للتغيير': 1,\n",
              "         'طلعو': 6,\n",
              "         'الشباب': 21,\n",
              "         'سعودية': 9,\n",
              "         'السياسيين': 3,\n",
              "         'وهلاء': 3,\n",
              "         'إجى': 3,\n",
              "         'دور': 17,\n",
              "         'رجال': 22,\n",
              "         'الدين': 25,\n",
              "         '...زمن': 3,\n",
              "         'الاستدعاء': 3,\n",
              "         'ويقولون': 3,\n",
              "         'بدنا': 20,\n",
              "         'لبنان': 186,\n",
              "         'سيد': 14,\n",
              "         'حرة': 7,\n",
              "         '....أنا': 3,\n",
              "         'لبناني': 18,\n",
              "         'بدّي': 5,\n",
              "         'السيد.': 3,\n",
              "         '@ajmurgent': 3,\n",
              "         'الكلام': 37,\n",
              "         'امريكا': 21,\n",
              "         'اسرائيل': 12,\n",
              "         'اما': 27,\n",
              "         'بني': 17,\n",
              "         'احتلالهم': 2,\n",
              "         'حول': 27,\n",
              "         'قوة': 28,\n",
              "         'تنفيذ': 9,\n",
              "         'اوامر': 2,\n",
              "         '@sh0uqa2': 2,\n",
              "         '@v_i_b_2': 2,\n",
              "         '#كاس_العالم_بيوحشنا_٢.': 1,\n",
              "         'القوة': 9,\n",
              "         'بارك': 3,\n",
              "         'بضعف': 2,\n",
              "         'جمهور': 15,\n",
              "         'خط': 9,\n",
              "         'النار': 19,\n",
              "         'تورط': 2,\n",
              "         'نفسك': 29,\n",
              "         'معهم': 8,\n",
              "         'اتمنى': 4,\n",
              "         'ي…': 21,\n",
              "         'https://t.co/Qjuyf9vztz': 1,\n",
              "         '@karamar3': 6,\n",
              "         '@yous0f': 3,\n",
              "         '@Sl6___': 3,\n",
              "         '@AlShahenoo': 3,\n",
              "         'هههههه': 5,\n",
              "         'تذبحني': 3,\n",
              "         'خفت': 4,\n",
              "         'اخي': 8,\n",
              "         'رايي': 3,\n",
              "         'عكايشي': 3,\n",
              "         'كويس': 8,\n",
              "         'والعام': 3,\n",
              "         'قدم': 27,\n",
              "         'مستوى': 13,\n",
              "         'هالسنه': 3,\n",
              "         'الكل': 41,\n",
              "         'سيء': 15,\n",
              "         'سيذكرني': 3,\n",
              "         'قومي': 4,\n",
              "         'اذا': 94,\n",
              "         'جد': 10,\n",
              "         'جدهم': 3,\n",
              "         'وفي.': 3,\n",
              "         'الليلة': 11,\n",
              "         'الظلماء': 3,\n",
              "         'يفتقد': 3,\n",
              "         'البدر': 4,\n",
              "         'نفتقدك': 3,\n",
              "         'وصفي': 6,\n",
              "         'الصروف': 3,\n",
              "         'الصعبه': 3,\n",
              "         'https://t.co/IWHzVtD4bj': 3,\n",
              "         'اسنسيو': 1,\n",
              "         'خرافي': 2,\n",
              "         'بكلشي': 1,\n",
              "         'اليوم': 116,\n",
              "         'قتالية': 2,\n",
              "         'الدون,': 1,\n",
              "         'كثير': 14,\n",
              "         'بيحاول': 1,\n",
              "         '😻': 1,\n",
              "         '@mo6nsh_911': 2,\n",
              "         '@ssqksa': 2,\n",
              "         '@Abo_z1': 2,\n",
              "         'كفو': 2,\n",
              "         'يبارك': 2,\n",
              "         '#مطنش': 2,\n",
              "         'وكثر': 2,\n",
              "         'امثالك': 8,\n",
              "         'وجميعنا': 2,\n",
              "         'ابناء': 11,\n",
              "         'وبنات': 3,\n",
              "         'الوطن': 20,\n",
              "         'يد': 9,\n",
              "         'وحده': 11,\n",
              "         'بخد…': 2,\n",
              "         'https://t.co/zCaOA6ZiqC': 2,\n",
              "         'يمكن': 41,\n",
              "         'إعتبار': 2,\n",
              "         'العواصف': 2,\n",
              "         'المنتظرة': 2,\n",
              "         'لفصل': 4,\n",
              "         'الشتاء': 7,\n",
              "         'كانت': 106,\n",
              "         'عاصفة': 3,\n",
              "         'سياسية': 7,\n",
              "         'مسبوقة': 2,\n",
              "         'بالشكل': 2,\n",
              "         'والمضمون': 3,\n",
              "         'تحمل': 17,\n",
              "         'غموض': 2,\n",
              "         'ا…': 59,\n",
              "         'https://t.co/1SsoAuIvFH': 2,\n",
              "         'مسنّ': 2,\n",
              "         'يقول:.': 3,\n",
              "         'زوجتي': 2,\n",
              "         'تناديني': 2,\n",
              "         'لأقرأ': 2,\n",
              "         'أوهمها': 2,\n",
              "         'أنني': 5,\n",
              "         'استطيع': 4,\n",
              "         'تشعر': 8,\n",
              "         'بأنها': 2,\n",
              "         'كبرت': 2,\n",
              "         'وحدها.': 2,\n",
              "         'هك…': 2,\n",
              "         'https://t.co/VFN2MGcPSr': 2,\n",
              "         'تقطع': 6,\n",
              "         'صوتها': 3,\n",
              "         'البيت': 25,\n",
              "         'واعطها': 3,\n",
              "         'العمر': 17,\n",
              "         'الطويل،': 3,\n",
              "         'بيده': 3,\n",
              "         'ملكوت': 3,\n",
              "         'السماوات': 5,\n",
              "         'والأرض': 8,\n",
              "         'احرس': 3,\n",
              "         'فهي': 19,\n",
              "         'ملكت': 3,\n",
              "         'رَبِ': 1,\n",
              "         'تكسر': 1,\n",
              "         'قلباً': 3,\n",
              "         'تُصَعِب': 1,\n",
              "         'عليَّ': 1,\n",
              "         'أمراً': 1,\n",
              "         'تحركني': 1,\n",
              "         'تعلّقت': 1,\n",
              "         'الروح': 14,\n",
              "         'احفظ': 3,\n",
              "         'عائلتي': 1,\n",
              "         'أحبتي': 1,\n",
              "         'أراد': 8,\n",
              "         '💙': 7,\n",
              "         'لدعم': 3,\n",
              "         '#الخبز': 2,\n",
              "         '#دوما': 2,\n",
              "         '#الغوطة_الشرقية': 2,\n",
              "         '5': 21,\n",
              "         'آلاف': 3,\n",
              "         'ربطة': 2,\n",
              "         '#خبز': 2,\n",
              "         'يوميا': 8,\n",
              "         'ظل': 17,\n",
              "         '#الحصار': 2,\n",
              "         'يفرضه': 2,\n",
              "         '#الأسد': 2,\n",
              "         'ع…': 16,\n",
              "         'https://t.co/wHI4d9AbNa': 2,\n",
              "         'الحياة': 73,\n",
              "         'أجمل': 12,\n",
              "         'حزن': 17,\n",
              "         'أصدق': 2,\n",
              "         'خيبة': 2,\n",
              "         'أعظم': 5,\n",
              "         'غدر': 5,\n",
              "         'أكبر': 37,\n",
              "         'كذبة.': 2,\n",
              "         'فقط.': 2,\n",
              "         'أنظر': 2,\n",
              "         'القلب': 42,\n",
              "         'يرى': 11,\n",
              "         'الله.': 16,\n",
              "         'ثق': 2,\n",
              "         'ك…': 4,\n",
              "         'https://t.co/rqSfI55YCm': 2,\n",
              "         '-': 185,\n",
              "         'لستُ': 6,\n",
              "         'وحدي': 12,\n",
              "         '،.': 16,\n",
              "         'جالسٌ': 3,\n",
              "         'بجانبي': 3,\n",
              "         'وجعي': 3,\n",
              "         'وتلك': 3,\n",
              "         'الدموع': 3,\n",
              "         'تحتضن': 3,\n",
              "         'عيناي': 3,\n",
              "         'قلبٌ': 3,\n",
              "         'يتألم': 3,\n",
              "         'يبكي': 4,\n",
              "         '؛.': 5,\n",
              "         'فأنا': 6,\n",
              "         'معي': 24,\n",
              "         'الطراونه': 3,\n",
              "         'يدعو': 9,\n",
              "         'ربط': 3,\n",
              "         'الضريبة': 10,\n",
              "         'بالخدمات': 3,\n",
              "         'وتوفير': 3,\n",
              "         'فرص': 8,\n",
              "         'عمل': 38,\n",
              "         '.....': 9,\n",
              "         'شيخ': 7,\n",
              "         'النواب': 19,\n",
              "         'مشكلتنا': 4,\n",
              "         'الكم': 3,\n",
              "         'الهائل': 3,\n",
              "         'الموظفين': 3,\n",
              "         'الي': 107,\n",
              "         'الهم': 13,\n",
              "         'شغل': 11,\n",
              "         'وبيصرف': 3,\n",
              "         'عليهم': 34,\n",
              "         'طبع': 2,\n",
              "         'جدا': 22,\n",
              "         'انا': 127,\n",
              "         'بكرهو': 2,\n",
              "         'والحمدلله': 3,\n",
              "         'موجود': 10,\n",
              "         'عندي': 21,\n",
              "         'رغم': 31,\n",
              "         'ظاهرة': 2,\n",
              "         'عالمية،': 2,\n",
              "         'انت': 137,\n",
              "         'بيكون': 3,\n",
              "         'معك': 19,\n",
              "         'الغرض،': 2,\n",
              "         'محتاجه،': 2,\n",
              "         'شخ…': 2,\n",
              "         'https://t.co/EUdInPKI6J': 2,\n",
              "         'ولأنك': 6,\n",
              "         'تدري': 18,\n",
              "         'بأي': 16,\n",
              "         'تدخل': 17,\n",
              "         'الجنة': 18,\n",
              "         'اكتب': 7,\n",
              "         \"'\": 9,\n",
              "         'دعاء': 8,\n",
              "         'حكمه': 6,\n",
              "         'نصيحه': 8,\n",
              "         'آية': 7,\n",
              "         'لربما': 6,\n",
              "         'يهتدي': 6,\n",
              "         'احدهم': 6,\n",
              "         'تزرع': 8,\n",
              "         'ابتسامة': 6,\n",
              "         'تسعد': 7,\n",
              "         'قلب..': 6,\n",
              "         'تحية': 6,\n",
              "         'إنسان': 6,\n",
              "         'ولد': 9,\n",
              "         'يعيش': 8,\n",
              "         'العربي': 33,\n",
              "         'تمكن': 2,\n",
              "         'الاحتفاظ': 2,\n",
              "         'بقدرته': 2,\n",
              "         'التفكير': 5,\n",
              "         'المستقل': 2,\n",
              "         'والارتقاء': 2,\n",
              "         'تخلف': 5,\n",
              "         'مجتمعه..': 2,\n",
              "         'مني': 20,\n",
              "         'كامل': 13,\n",
              "         'الاحترام': 6,\n",
              "         '(نصف)': 2,\n",
              "         'مزيج': 2,\n",
              "         'الظاهرة': 2,\n",
              "         'وزيدان': 2,\n",
              "         'لإحتفلنا': 2,\n",
              "         'بالهدف': 2,\n",
              "         'يستلم': 4,\n",
              "         'الكرة': 9,\n",
              "         'الغباء': 7,\n",
              "         'يلعب': 18,\n",
              "         '!': 98,\n",
              "         'https://t.co/jrTPJJjs4h': 2,\n",
              "         'طربيه:': 2,\n",
              "         'تلقينا': 3,\n",
              "         'تأكيدات': 3,\n",
              "         'الأميركيين': 3,\n",
              "         'القطاع': 5,\n",
              "         'المصرفي': 6,\n",
              "         'مستهدف': 7,\n",
              "         'بالعقوبات': 3,\n",
              "         'حزب': 91,\n",
              "         'يتقيد': 3,\n",
              "         'بالاجراءات': 3,\n",
              "         'الدولية': 4,\n",
              "         'للعمل': 4,\n",
              "         'تنبيه': 5,\n",
              "         'حملة': 4,\n",
              "         'حضر': 3,\n",
              "         'لحسابات': 2,\n",
              "         'السناب': 2,\n",
              "         'الشات': 2,\n",
              "         'تستخدم': 3,\n",
              "         'تطبيقات': 2,\n",
              "         'الطرف': 5,\n",
              "         'الثالث': 6,\n",
              "         'سناب': 8,\n",
              "         'بلس': 2,\n",
              "         'عثمان': 2,\n",
              "         'ابتعدو': 2,\n",
              "         'عن…': 5,\n",
              "         'https://t.co/ZMOXmY9LQ9': 2,\n",
              "         'أربعينية': 5,\n",
              "         'الإمام': 18,\n",
              "         'الحسين': 34,\n",
              "         'السلام': 67,\n",
              "         'مسيرة': 3,\n",
              "         'إصلاح': 5,\n",
              "         'الأمة': 5,\n",
              "         'لخدمة': 6,\n",
              "         'المبادئ': 4,\n",
              "         'الأساسية': 3,\n",
              "         'لقيم': 3,\n",
              "         'السماء': 33,\n",
              "         'الأرض': 23,\n",
              "         'ولكل': 6,\n",
              "         'الإنسانية': 3,\n",
              "         'خطها': 3,\n",
              "         'أبا': 5,\n",
              "         'الاحرار': 5,\n",
              "         'الشيخ': 33,\n",
              "         '#ياسر_عودة': 2,\n",
              "         '👏': 2,\n",
              "         'تسمع': 10,\n",
              "         'كلامه': 3,\n",
              "         'وكيف': 9,\n",
              "         'ينتقد': 2,\n",
              "         'وينور': 4,\n",
              "         'السنة': 7,\n",
              "         'والشيعة': 3,\n",
              "         'تحس': 7,\n",
              "         'التنوير': 2,\n",
              "         'طريقه': 2,\n",
              "         'محال': 2,\n",
              "         '💕': 4,\n",
              "         'المجلس': 9,\n",
              "         'السياسي': 16,\n",
              "         'الاعلى': 1,\n",
              "         'اليمن:': 4,\n",
              "         'المطارات': 5,\n",
              "         'والموانئ': 2,\n",
              "         'والمنافذ': 2,\n",
              "         'المهمة': 1,\n",
              "         'لقوى': 2,\n",
              "         'العدوان': 16,\n",
              "         'ستكون': 9,\n",
              "         'هدفا': 2,\n",
              "         'مباشرا': 3,\n",
              "         'الإعلامي': 7,\n",
              "         'نديم': 4,\n",
              "         'قطيش': 4,\n",
              "         'يعلن': 14,\n",
              "         'شبكة': 4,\n",
              "         'الإتصالات': 3,\n",
              "         'الخاصة': 13,\n",
              "         'بالرئيس': 3,\n",
              "         '#الحريري': 23,\n",
              "         'تعرضت': 3,\n",
              "         'للخرق': 2,\n",
              "         'مرات': 4,\n",
              "         'عدة': 9,\n",
              "         'والأجهزة': 2,\n",
              "         'الأمنية': 5,\n",
              "         'قالت': 8,\n",
              "         'شيئاً': 12,\n",
              "         'يحاك': 3,\n",
              "         'ضده': 4,\n",
              "         '#مجزرة_سوق_علاف_بسحار': 4,\n",
              "         'اعمى': 4,\n",
              "         'أبكم': 2,\n",
              "         'أطرش': 3,\n",
              "         'يسمع': 7,\n",
              "         'وأنفسكم': 2,\n",
              "         'اضربوهم': 2,\n",
              "         'أحرقوا.': 2,\n",
              "         'نفطهم': 2,\n",
              "         'ترحم': 5,\n",
              "         'احد': 42,\n",
              "         'يأتي': 9,\n",
              "         'أليكم': 2,\n",
              "         'راكع': 2,\n",
              "         'عليكم.': 3,\n",
              "         'تحديث': 3,\n",
              "         'جديد': 20,\n",
              "         'لنظام': 2,\n",
              "         'IOS': 2,\n",
              "         'يحمل': 14,\n",
              "         'الرقم': 4,\n",
              "         '11.1.1': 2,\n",
              "         'وفيه': 2,\n",
              "         'تم': 37,\n",
              "         'حل': 13,\n",
              "         'مشكلة': 14,\n",
              "         'التصحيح': 2,\n",
              "         'التلقائي': 2,\n",
              "         'وكذلك': 6,\n",
              "         'سيري': 2,\n",
              "         'اللهم': 156,\n",
              "         'غفر': 2,\n",
              "         'ذنوباً': 2,\n",
              "         'حالت': 3,\n",
              "         'بيننا': 6,\n",
              "         'وبين': 11,\n",
              "         'ذكرك': 2,\n",
              "         'واعفوا': 2,\n",
              "         'تقصيرنا': 2,\n",
              "         'فى': 23,\n",
              "         'طاعتك': 2,\n",
              "         'وشكرك': 2,\n",
              "         'وأدم': 2,\n",
              "         'لزوم': 2,\n",
              "         'الطريق': 16,\n",
              "         'نوراً': 2,\n",
              "         'نهتدي': 2,\n",
              "         'تضع': 7,\n",
              "         'امامك': 3,\n",
              "         'حلم': 11,\n",
              "         'وتواجه': 2,\n",
              "         'العقبات': 2,\n",
              "         'للوصول': 4,\n",
              "         'الحلم': 8,\n",
              "         'وتمضي': 2,\n",
              "         ...})"
            ]
          },
          "metadata": {},
          "execution_count": 84
        }
      ]
    },
    {
      "cell_type": "code",
      "source": [
        "len(pruned_vocab)"
      ],
      "metadata": {
        "colab": {
          "base_uri": "https://localhost:8080/"
        },
        "id": "CMixDlBEbQ8b",
        "outputId": "18b099a9-cb2a-4527-c0fc-3d76643454a8"
      },
      "execution_count": null,
      "outputs": [
        {
          "output_type": "execute_result",
          "data": {
            "text/plain": [
              "26250"
            ]
          },
          "metadata": {},
          "execution_count": 85
        }
      ]
    },
    {
      "cell_type": "code",
      "source": [
        "counts=list(pruned_vocab.values())\n",
        "fig,ax=plt.subplots(figsize=(12,15))\n",
        "sns.boxplot(y=counts,ax=ax)\n",
        "ax.set_title(\"Word_Count\",fontdict=dict(size=15),pad=15)\n",
        "plt.show()"
      ],
      "metadata": {
        "colab": {
          "base_uri": "https://localhost:8080/",
          "height": 877
        },
        "id": "HT8mEoX2cgU3",
        "outputId": "87c1a400-2a05-4aa6-8eec-5a20e7424bb9"
      },
      "execution_count": null,
      "outputs": [
        {
          "output_type": "display_data",
          "data": {
            "text/plain": [
              "<Figure size 864x1080 with 1 Axes>"
            ],
            "image/png": "[encoded data removed]"
          },
          "metadata": {
            "needs_background": "light"
          }
        }
      ]
    },
    {
      "cell_type": "markdown",
      "source": [
        "**Text Cleaning**"
      ],
      "metadata": {
        "id": "WlMr-gW3hhiv"
      }
    },
    {
      "cell_type": "code",
      "source": [
        "sample=data['Tweet'].iloc[102]\n",
        "sample"
      ],
      "metadata": {
        "colab": {
          "base_uri": "https://localhost:8080/",
          "height": 36
        },
        "id": "hGmSFkzIc5fr",
        "outputId": "6fd5d81d-b33d-4779-cb47-990fbda1c6a1"
      },
      "execution_count": null,
      "outputs": [
        {
          "output_type": "execute_result",
          "data": {
            "text/plain": [
              "'هدف لا نراه كل يوم . #LEITOT . @oki_q8e شوف ابن اختي شوف 🤗 https://t.co/ZmVMl4sOqA'"
            ],
            "application/vnd.google.colaboratory.intrinsic+json": {
              "type": "string"
            }
          },
          "metadata": {},
          "execution_count": 87
        }
      ]
    },
    {
      "cell_type": "code",
      "source": [
        "def test_clean_fn(fn: Callable, sample: str) -> str:\n",
        "    print(sample, fn(sample), sep=\"\\n\")"
      ],
      "metadata": {
        "id": "EvwHlAB0izmP"
      },
      "execution_count": null,
      "outputs": []
    },
    {
      "cell_type": "markdown",
      "source": [
        "# **Stop Words**"
      ],
      "metadata": {
        "id": "peeT6vY2l_ru"
      }
    },
    {
      "cell_type": "code",
      "source": [
        "to_keep = [\"لا\"]\n",
        "stop_words = [word for word in stopwords.words(\"arabic\") if word not in to_keep] \n",
        "\n",
        "def remove_stop_words(text: str) -> str:\n",
        "    return \" \".join([word for word in text.split(\" \") if word not in stop_words])\n",
        "\n",
        "\n",
        "test_clean_fn(remove_stop_words, sample)\n"
      ],
      "metadata": {
        "colab": {
          "base_uri": "https://localhost:8080/"
        },
        "id": "hNXu78KSk8Fg",
        "outputId": "ac5972d4-a29d-4710-baff-14cd909f1c44"
      },
      "execution_count": null,
      "outputs": [
        {
          "output_type": "stream",
          "name": "stdout",
          "text": [
            "هدف لا نراه كل يوم . #LEITOT . @oki_q8e شوف ابن اختي شوف 🤗 https://t.co/ZmVMl4sOqA\n",
            "هدف لا نراه يوم . #LEITOT . @oki_q8e شوف ابن اختي شوف 🤗 https://t.co/ZmVMl4sOqA\n"
          ]
        }
      ]
    },
    {
      "cell_type": "markdown",
      "source": [
        "#Removing Hashtag"
      ],
      "metadata": {
        "id": "BjLDhhfdqi9w"
      }
    },
    {
      "cell_type": "code",
      "source": [
        "hashtag_re=re.compile(pattern='#[A-Za-z0-9_ا_ي]+')\n",
        "def remove_hashtag(text:str) -> str:\n",
        "  return hashtag_re.sub(repl=\" \",string=text)\n",
        "\n",
        "test_clean_fn(remove_hashtag,sample)"
      ],
      "metadata": {
        "colab": {
          "base_uri": "https://localhost:8080/"
        },
        "id": "vzIMOX3bqndx",
        "outputId": "168f522a-fadc-4d67-f161-c856af796a5d"
      },
      "execution_count": null,
      "outputs": [
        {
          "output_type": "stream",
          "name": "stdout",
          "text": [
            "هدف لا نراه كل يوم . #LEITOT . @oki_q8e شوف ابن اختي شوف 🤗 https://t.co/ZmVMl4sOqA\n",
            "هدف لا نراه كل يوم .   . @oki_q8e شوف ابن اختي شوف 🤗 https://t.co/ZmVMl4sOqA\n"
          ]
        }
      ]
    },
    {
      "cell_type": "markdown",
      "source": [
        "#Remove Mentions"
      ],
      "metadata": {
        "id": "BwO6UNPxzjKv"
      }
    },
    {
      "cell_type": "code",
      "source": [
        "def remove_mentions(text:str) -> str:\n",
        "  return re.sub(pattern=r\"@[^\\s]+\" ,repl=\"\", string=text)\n",
        "\n",
        "text_clean_fn(remove_mentions,sample)"
      ],
      "metadata": {
        "colab": {
          "base_uri": "https://localhost:8080/"
        },
        "id": "noiCOPMzzoWj",
        "outputId": "837ede65-1711-432a-ee2a-b7d5285c9aff"
      },
      "execution_count": null,
      "outputs": [
        {
          "output_type": "stream",
          "name": "stdout",
          "text": [
            "هدف لا نراه كل يوم . #LEITOT . @oki_q8e شوف ابن اختي شوف 🤗 https://t.co/ZmVMl4sOqA\n",
            "هدف لا نراه كل يوم . #LEITOT .  شوف ابن اختي شوف 🤗 https://t.co/ZmVMl4sOqA\n"
          ]
        }
      ]
    },
    {
      "cell_type": "code",
      "source": [],
      "metadata": {
        "id": "Y-LTtzEL1hyg"
      },
      "execution_count": null,
      "outputs": []
    }
  ]
}