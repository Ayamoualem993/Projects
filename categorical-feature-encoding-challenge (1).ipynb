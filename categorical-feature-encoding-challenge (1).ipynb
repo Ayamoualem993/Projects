{
 "cells": [
  {
   "cell_type": "code",
   "execution_count": 1,
   "id": "686b6da2",
   "metadata": {
    "_cell_guid": "b1076dfc-b9ad-4769-8c92-a6c4dae69d19",
    "_uuid": "8f2839f25d086af736a60e9eeb907d3b93b6e0e5",
    "execution": {
     "iopub.execute_input": "2022-05-08T13:23:49.626977Z",
     "iopub.status.busy": "2022-05-08T13:23:49.626646Z",
     "iopub.status.idle": "2022-05-08T13:23:50.554933Z",
     "shell.execute_reply": "2022-05-08T13:23:50.554022Z"
    },
    "papermill": {
     "duration": 0.967223,
     "end_time": "2022-05-08T13:23:50.557559",
     "exception": false,
     "start_time": "2022-05-08T13:23:49.590336",
     "status": "completed"
    },
    "tags": []
   },
   "outputs": [
    {
     "name": "stdout",
     "output_type": "stream",
     "text": [
      "/kaggle/input/cat-in-the-dat/sample_submission.csv\n",
      "/kaggle/input/cat-in-the-dat/train.csv\n",
      "/kaggle/input/cat-in-the-dat/test.csv\n"
     ]
    }
   ],
   "source": [
    "\n",
    "import numpy as np\n",
    "import pandas as pd\n",
    "import matplotlib.pyplot as plt\n",
    "from sklearn.linear_model import LogisticRegression\n",
    "from sklearn.metrics import accuracy_score\n",
    "from sklearn.pipeline import Pipeline\n",
    "from xgboost import XGBClassifier\n",
    "\n",
    "import os\n",
    "for dirname, _, filenames in os.walk('/kaggle/input'):\n",
    "    for filename in filenames:\n",
    "        print(os.path.join(dirname, filename))\n"
   ]
  },
  {
   "cell_type": "code",
   "execution_count": 2,
   "id": "b6f0a98e",
   "metadata": {
    "execution": {
     "iopub.execute_input": "2022-05-08T13:23:50.629390Z",
     "iopub.status.busy": "2022-05-08T13:23:50.628819Z",
     "iopub.status.idle": "2022-05-08T13:23:52.663652Z",
     "shell.execute_reply": "2022-05-08T13:23:52.662887Z"
    },
    "papermill": {
     "duration": 2.071799,
     "end_time": "2022-05-08T13:23:52.665934",
     "exception": false,
     "start_time": "2022-05-08T13:23:50.594135",
     "status": "completed"
    },
    "tags": []
   },
   "outputs": [],
   "source": [
    "submission=pd.read_csv('../input/cat-in-the-dat/sample_submission.csv')\n",
    "train = pd.read_csv(\"../input/cat-in-the-dat/train.csv\")\n",
    "test = pd.read_csv(\"../input/cat-in-the-dat/test.csv\")\n"
   ]
  },
  {
   "cell_type": "code",
   "execution_count": 3,
   "id": "1c002dde",
   "metadata": {
    "execution": {
     "iopub.execute_input": "2022-05-08T13:23:52.735049Z",
     "iopub.status.busy": "2022-05-08T13:23:52.734826Z",
     "iopub.status.idle": "2022-05-08T13:23:52.778619Z",
     "shell.execute_reply": "2022-05-08T13:23:52.777962Z"
    },
    "papermill": {
     "duration": 0.08012,
     "end_time": "2022-05-08T13:23:52.780306",
     "exception": false,
     "start_time": "2022-05-08T13:23:52.700186",
     "status": "completed"
    },
    "tags": []
   },
   "outputs": [
    {
     "data": {
      "text/html": [
       "<div>\n",
       "<style scoped>\n",
       "    .dataframe tbody tr th:only-of-type {\n",
       "        vertical-align: middle;\n",
       "    }\n",
       "\n",
       "    .dataframe tbody tr th {\n",
       "        vertical-align: top;\n",
       "    }\n",
       "\n",
       "    .dataframe thead th {\n",
       "        text-align: right;\n",
       "    }\n",
       "</style>\n",
       "<table border=\"1\" class=\"dataframe\">\n",
       "  <thead>\n",
       "    <tr style=\"text-align: right;\">\n",
       "      <th></th>\n",
       "      <th>id</th>\n",
       "      <th>bin_0</th>\n",
       "      <th>bin_1</th>\n",
       "      <th>bin_2</th>\n",
       "      <th>bin_3</th>\n",
       "      <th>bin_4</th>\n",
       "      <th>nom_0</th>\n",
       "      <th>nom_1</th>\n",
       "      <th>nom_2</th>\n",
       "      <th>nom_3</th>\n",
       "      <th>...</th>\n",
       "      <th>nom_9</th>\n",
       "      <th>ord_0</th>\n",
       "      <th>ord_1</th>\n",
       "      <th>ord_2</th>\n",
       "      <th>ord_3</th>\n",
       "      <th>ord_4</th>\n",
       "      <th>ord_5</th>\n",
       "      <th>day</th>\n",
       "      <th>month</th>\n",
       "      <th>target</th>\n",
       "    </tr>\n",
       "  </thead>\n",
       "  <tbody>\n",
       "    <tr>\n",
       "      <th>0</th>\n",
       "      <td>0</td>\n",
       "      <td>0</td>\n",
       "      <td>0</td>\n",
       "      <td>0</td>\n",
       "      <td>T</td>\n",
       "      <td>Y</td>\n",
       "      <td>Green</td>\n",
       "      <td>Triangle</td>\n",
       "      <td>Snake</td>\n",
       "      <td>Finland</td>\n",
       "      <td>...</td>\n",
       "      <td>2f4cb3d51</td>\n",
       "      <td>2</td>\n",
       "      <td>Grandmaster</td>\n",
       "      <td>Cold</td>\n",
       "      <td>h</td>\n",
       "      <td>D</td>\n",
       "      <td>kr</td>\n",
       "      <td>2</td>\n",
       "      <td>2</td>\n",
       "      <td>0</td>\n",
       "    </tr>\n",
       "    <tr>\n",
       "      <th>1</th>\n",
       "      <td>1</td>\n",
       "      <td>0</td>\n",
       "      <td>1</td>\n",
       "      <td>0</td>\n",
       "      <td>T</td>\n",
       "      <td>Y</td>\n",
       "      <td>Green</td>\n",
       "      <td>Trapezoid</td>\n",
       "      <td>Hamster</td>\n",
       "      <td>Russia</td>\n",
       "      <td>...</td>\n",
       "      <td>f83c56c21</td>\n",
       "      <td>1</td>\n",
       "      <td>Grandmaster</td>\n",
       "      <td>Hot</td>\n",
       "      <td>a</td>\n",
       "      <td>A</td>\n",
       "      <td>bF</td>\n",
       "      <td>7</td>\n",
       "      <td>8</td>\n",
       "      <td>0</td>\n",
       "    </tr>\n",
       "    <tr>\n",
       "      <th>2</th>\n",
       "      <td>2</td>\n",
       "      <td>0</td>\n",
       "      <td>0</td>\n",
       "      <td>0</td>\n",
       "      <td>F</td>\n",
       "      <td>Y</td>\n",
       "      <td>Blue</td>\n",
       "      <td>Trapezoid</td>\n",
       "      <td>Lion</td>\n",
       "      <td>Russia</td>\n",
       "      <td>...</td>\n",
       "      <td>ae6800dd0</td>\n",
       "      <td>1</td>\n",
       "      <td>Expert</td>\n",
       "      <td>Lava Hot</td>\n",
       "      <td>h</td>\n",
       "      <td>R</td>\n",
       "      <td>Jc</td>\n",
       "      <td>7</td>\n",
       "      <td>2</td>\n",
       "      <td>0</td>\n",
       "    </tr>\n",
       "    <tr>\n",
       "      <th>3</th>\n",
       "      <td>3</td>\n",
       "      <td>0</td>\n",
       "      <td>1</td>\n",
       "      <td>0</td>\n",
       "      <td>F</td>\n",
       "      <td>Y</td>\n",
       "      <td>Red</td>\n",
       "      <td>Trapezoid</td>\n",
       "      <td>Snake</td>\n",
       "      <td>Canada</td>\n",
       "      <td>...</td>\n",
       "      <td>8270f0d71</td>\n",
       "      <td>1</td>\n",
       "      <td>Grandmaster</td>\n",
       "      <td>Boiling Hot</td>\n",
       "      <td>i</td>\n",
       "      <td>D</td>\n",
       "      <td>kW</td>\n",
       "      <td>2</td>\n",
       "      <td>1</td>\n",
       "      <td>1</td>\n",
       "    </tr>\n",
       "    <tr>\n",
       "      <th>4</th>\n",
       "      <td>4</td>\n",
       "      <td>0</td>\n",
       "      <td>0</td>\n",
       "      <td>0</td>\n",
       "      <td>F</td>\n",
       "      <td>N</td>\n",
       "      <td>Red</td>\n",
       "      <td>Trapezoid</td>\n",
       "      <td>Lion</td>\n",
       "      <td>Canada</td>\n",
       "      <td>...</td>\n",
       "      <td>b164b72a7</td>\n",
       "      <td>1</td>\n",
       "      <td>Grandmaster</td>\n",
       "      <td>Freezing</td>\n",
       "      <td>a</td>\n",
       "      <td>R</td>\n",
       "      <td>qP</td>\n",
       "      <td>7</td>\n",
       "      <td>8</td>\n",
       "      <td>0</td>\n",
       "    </tr>\n",
       "  </tbody>\n",
       "</table>\n",
       "<p>5 rows × 25 columns</p>\n",
       "</div>"
      ],
      "text/plain": [
       "   id  bin_0  bin_1  bin_2 bin_3 bin_4  nom_0      nom_1    nom_2    nom_3  \\\n",
       "0   0      0      0      0     T     Y  Green   Triangle    Snake  Finland   \n",
       "1   1      0      1      0     T     Y  Green  Trapezoid  Hamster   Russia   \n",
       "2   2      0      0      0     F     Y   Blue  Trapezoid     Lion   Russia   \n",
       "3   3      0      1      0     F     Y    Red  Trapezoid    Snake   Canada   \n",
       "4   4      0      0      0     F     N    Red  Trapezoid     Lion   Canada   \n",
       "\n",
       "   ...      nom_9 ord_0        ord_1        ord_2 ord_3 ord_4  ord_5 day  \\\n",
       "0  ...  2f4cb3d51     2  Grandmaster         Cold     h     D     kr   2   \n",
       "1  ...  f83c56c21     1  Grandmaster          Hot     a     A     bF   7   \n",
       "2  ...  ae6800dd0     1       Expert     Lava Hot     h     R     Jc   7   \n",
       "3  ...  8270f0d71     1  Grandmaster  Boiling Hot     i     D     kW   2   \n",
       "4  ...  b164b72a7     1  Grandmaster     Freezing     a     R     qP   7   \n",
       "\n",
       "  month target  \n",
       "0     2      0  \n",
       "1     8      0  \n",
       "2     2      0  \n",
       "3     1      1  \n",
       "4     8      0  \n",
       "\n",
       "[5 rows x 25 columns]"
      ]
     },
     "metadata": {},
     "output_type": "display_data"
    },
    {
     "data": {
      "text/html": [
       "<div>\n",
       "<style scoped>\n",
       "    .dataframe tbody tr th:only-of-type {\n",
       "        vertical-align: middle;\n",
       "    }\n",
       "\n",
       "    .dataframe tbody tr th {\n",
       "        vertical-align: top;\n",
       "    }\n",
       "\n",
       "    .dataframe thead th {\n",
       "        text-align: right;\n",
       "    }\n",
       "</style>\n",
       "<table border=\"1\" class=\"dataframe\">\n",
       "  <thead>\n",
       "    <tr style=\"text-align: right;\">\n",
       "      <th></th>\n",
       "      <th>id</th>\n",
       "      <th>bin_0</th>\n",
       "      <th>bin_1</th>\n",
       "      <th>bin_2</th>\n",
       "      <th>bin_3</th>\n",
       "      <th>bin_4</th>\n",
       "      <th>nom_0</th>\n",
       "      <th>nom_1</th>\n",
       "      <th>nom_2</th>\n",
       "      <th>nom_3</th>\n",
       "      <th>...</th>\n",
       "      <th>nom_8</th>\n",
       "      <th>nom_9</th>\n",
       "      <th>ord_0</th>\n",
       "      <th>ord_1</th>\n",
       "      <th>ord_2</th>\n",
       "      <th>ord_3</th>\n",
       "      <th>ord_4</th>\n",
       "      <th>ord_5</th>\n",
       "      <th>day</th>\n",
       "      <th>month</th>\n",
       "    </tr>\n",
       "  </thead>\n",
       "  <tbody>\n",
       "    <tr>\n",
       "      <th>0</th>\n",
       "      <td>300000</td>\n",
       "      <td>0</td>\n",
       "      <td>0</td>\n",
       "      <td>1</td>\n",
       "      <td>T</td>\n",
       "      <td>Y</td>\n",
       "      <td>Blue</td>\n",
       "      <td>Triangle</td>\n",
       "      <td>Axolotl</td>\n",
       "      <td>Finland</td>\n",
       "      <td>...</td>\n",
       "      <td>9d117320c</td>\n",
       "      <td>3c49b42b8</td>\n",
       "      <td>2</td>\n",
       "      <td>Novice</td>\n",
       "      <td>Warm</td>\n",
       "      <td>j</td>\n",
       "      <td>P</td>\n",
       "      <td>be</td>\n",
       "      <td>5</td>\n",
       "      <td>11</td>\n",
       "    </tr>\n",
       "    <tr>\n",
       "      <th>1</th>\n",
       "      <td>300001</td>\n",
       "      <td>0</td>\n",
       "      <td>0</td>\n",
       "      <td>0</td>\n",
       "      <td>T</td>\n",
       "      <td>N</td>\n",
       "      <td>Red</td>\n",
       "      <td>Square</td>\n",
       "      <td>Lion</td>\n",
       "      <td>Canada</td>\n",
       "      <td>...</td>\n",
       "      <td>46ae3059c</td>\n",
       "      <td>285771075</td>\n",
       "      <td>1</td>\n",
       "      <td>Master</td>\n",
       "      <td>Lava Hot</td>\n",
       "      <td>l</td>\n",
       "      <td>A</td>\n",
       "      <td>RP</td>\n",
       "      <td>7</td>\n",
       "      <td>5</td>\n",
       "    </tr>\n",
       "    <tr>\n",
       "      <th>2</th>\n",
       "      <td>300002</td>\n",
       "      <td>1</td>\n",
       "      <td>0</td>\n",
       "      <td>1</td>\n",
       "      <td>F</td>\n",
       "      <td>Y</td>\n",
       "      <td>Blue</td>\n",
       "      <td>Square</td>\n",
       "      <td>Dog</td>\n",
       "      <td>China</td>\n",
       "      <td>...</td>\n",
       "      <td>b759e21f0</td>\n",
       "      <td>6f323c53f</td>\n",
       "      <td>2</td>\n",
       "      <td>Expert</td>\n",
       "      <td>Freezing</td>\n",
       "      <td>a</td>\n",
       "      <td>G</td>\n",
       "      <td>tP</td>\n",
       "      <td>1</td>\n",
       "      <td>12</td>\n",
       "    </tr>\n",
       "    <tr>\n",
       "      <th>3</th>\n",
       "      <td>300003</td>\n",
       "      <td>0</td>\n",
       "      <td>0</td>\n",
       "      <td>1</td>\n",
       "      <td>T</td>\n",
       "      <td>Y</td>\n",
       "      <td>Red</td>\n",
       "      <td>Star</td>\n",
       "      <td>Cat</td>\n",
       "      <td>China</td>\n",
       "      <td>...</td>\n",
       "      <td>0b6ec68ff</td>\n",
       "      <td>b5de3dcc4</td>\n",
       "      <td>1</td>\n",
       "      <td>Contributor</td>\n",
       "      <td>Lava Hot</td>\n",
       "      <td>b</td>\n",
       "      <td>Q</td>\n",
       "      <td>ke</td>\n",
       "      <td>2</td>\n",
       "      <td>3</td>\n",
       "    </tr>\n",
       "    <tr>\n",
       "      <th>4</th>\n",
       "      <td>300004</td>\n",
       "      <td>0</td>\n",
       "      <td>1</td>\n",
       "      <td>1</td>\n",
       "      <td>F</td>\n",
       "      <td>N</td>\n",
       "      <td>Red</td>\n",
       "      <td>Trapezoid</td>\n",
       "      <td>Dog</td>\n",
       "      <td>China</td>\n",
       "      <td>...</td>\n",
       "      <td>f91f3b1ee</td>\n",
       "      <td>967cfa9c9</td>\n",
       "      <td>3</td>\n",
       "      <td>Grandmaster</td>\n",
       "      <td>Lava Hot</td>\n",
       "      <td>l</td>\n",
       "      <td>W</td>\n",
       "      <td>qK</td>\n",
       "      <td>4</td>\n",
       "      <td>11</td>\n",
       "    </tr>\n",
       "  </tbody>\n",
       "</table>\n",
       "<p>5 rows × 24 columns</p>\n",
       "</div>"
      ],
      "text/plain": [
       "       id  bin_0  bin_1  bin_2 bin_3 bin_4 nom_0      nom_1    nom_2    nom_3  \\\n",
       "0  300000      0      0      1     T     Y  Blue   Triangle  Axolotl  Finland   \n",
       "1  300001      0      0      0     T     N   Red     Square     Lion   Canada   \n",
       "2  300002      1      0      1     F     Y  Blue     Square      Dog    China   \n",
       "3  300003      0      0      1     T     Y   Red       Star      Cat    China   \n",
       "4  300004      0      1      1     F     N   Red  Trapezoid      Dog    China   \n",
       "\n",
       "   ...      nom_8      nom_9 ord_0        ord_1     ord_2 ord_3  ord_4 ord_5  \\\n",
       "0  ...  9d117320c  3c49b42b8     2       Novice      Warm     j      P    be   \n",
       "1  ...  46ae3059c  285771075     1       Master  Lava Hot     l      A    RP   \n",
       "2  ...  b759e21f0  6f323c53f     2       Expert  Freezing     a      G    tP   \n",
       "3  ...  0b6ec68ff  b5de3dcc4     1  Contributor  Lava Hot     b      Q    ke   \n",
       "4  ...  f91f3b1ee  967cfa9c9     3  Grandmaster  Lava Hot     l      W    qK   \n",
       "\n",
       "  day month  \n",
       "0   5    11  \n",
       "1   7     5  \n",
       "2   1    12  \n",
       "3   2     3  \n",
       "4   4    11  \n",
       "\n",
       "[5 rows x 24 columns]"
      ]
     },
     "metadata": {},
     "output_type": "display_data"
    }
   ],
   "source": [
    "display(train.head())\n",
    "display(test.head())\n"
   ]
  },
  {
   "cell_type": "code",
   "execution_count": 4,
   "id": "d774eb53",
   "metadata": {
    "execution": {
     "iopub.execute_input": "2022-05-08T13:23:52.852193Z",
     "iopub.status.busy": "2022-05-08T13:23:52.851976Z",
     "iopub.status.idle": "2022-05-08T13:23:52.857491Z",
     "shell.execute_reply": "2022-05-08T13:23:52.856812Z"
    },
    "papermill": {
     "duration": 0.044066,
     "end_time": "2022-05-08T13:23:52.859700",
     "exception": false,
     "start_time": "2022-05-08T13:23:52.815634",
     "status": "completed"
    },
    "tags": []
   },
   "outputs": [
    {
     "data": {
      "text/plain": [
       "Index(['id', 'bin_0', 'bin_1', 'bin_2', 'bin_3', 'bin_4', 'nom_0', 'nom_1',\n",
       "       'nom_2', 'nom_3', 'nom_4', 'nom_5', 'nom_6', 'nom_7', 'nom_8', 'nom_9',\n",
       "       'ord_0', 'ord_1', 'ord_2', 'ord_3', 'ord_4', 'ord_5', 'day', 'month',\n",
       "       'target'],\n",
       "      dtype='object')"
      ]
     },
     "execution_count": 4,
     "metadata": {},
     "output_type": "execute_result"
    }
   ],
   "source": [
    "train.columns"
   ]
  },
  {
   "cell_type": "code",
   "execution_count": 5,
   "id": "659a50b3",
   "metadata": {
    "execution": {
     "iopub.execute_input": "2022-05-08T13:23:52.942139Z",
     "iopub.status.busy": "2022-05-08T13:23:52.941503Z",
     "iopub.status.idle": "2022-05-08T13:23:53.464529Z",
     "shell.execute_reply": "2022-05-08T13:23:53.463810Z"
    },
    "papermill": {
     "duration": 0.569046,
     "end_time": "2022-05-08T13:23:53.467364",
     "exception": false,
     "start_time": "2022-05-08T13:23:52.898318",
     "status": "completed"
    },
    "tags": []
   },
   "outputs": [
    {
     "name": "stdout",
     "output_type": "stream",
     "text": [
      "<class 'pandas.core.frame.DataFrame'>\n",
      "RangeIndex: 300000 entries, 0 to 299999\n",
      "Data columns (total 25 columns):\n",
      " #   Column  Non-Null Count   Dtype \n",
      "---  ------  --------------   ----- \n",
      " 0   id      300000 non-null  int64 \n",
      " 1   bin_0   300000 non-null  int64 \n",
      " 2   bin_1   300000 non-null  int64 \n",
      " 3   bin_2   300000 non-null  int64 \n",
      " 4   bin_3   300000 non-null  object\n",
      " 5   bin_4   300000 non-null  object\n",
      " 6   nom_0   300000 non-null  object\n",
      " 7   nom_1   300000 non-null  object\n",
      " 8   nom_2   300000 non-null  object\n",
      " 9   nom_3   300000 non-null  object\n",
      " 10  nom_4   300000 non-null  object\n",
      " 11  nom_5   300000 non-null  object\n",
      " 12  nom_6   300000 non-null  object\n",
      " 13  nom_7   300000 non-null  object\n",
      " 14  nom_8   300000 non-null  object\n",
      " 15  nom_9   300000 non-null  object\n",
      " 16  ord_0   300000 non-null  int64 \n",
      " 17  ord_1   300000 non-null  object\n",
      " 18  ord_2   300000 non-null  object\n",
      " 19  ord_3   300000 non-null  object\n",
      " 20  ord_4   300000 non-null  object\n",
      " 21  ord_5   300000 non-null  object\n",
      " 22  day     300000 non-null  int64 \n",
      " 23  month   300000 non-null  int64 \n",
      " 24  target  300000 non-null  int64 \n",
      "dtypes: int64(8), object(17)\n",
      "memory usage: 57.2+ MB\n"
     ]
    }
   ],
   "source": [
    "train.info()"
   ]
  },
  {
   "cell_type": "code",
   "execution_count": 6,
   "id": "e2af5cb5",
   "metadata": {
    "execution": {
     "iopub.execute_input": "2022-05-08T13:23:53.540751Z",
     "iopub.status.busy": "2022-05-08T13:23:53.540201Z",
     "iopub.status.idle": "2022-05-08T13:23:53.852355Z",
     "shell.execute_reply": "2022-05-08T13:23:53.851469Z"
    },
    "papermill": {
     "duration": 0.351829,
     "end_time": "2022-05-08T13:23:53.855161",
     "exception": false,
     "start_time": "2022-05-08T13:23:53.503332",
     "status": "completed"
    },
    "tags": []
   },
   "outputs": [
    {
     "name": "stdout",
     "output_type": "stream",
     "text": [
      "<class 'pandas.core.frame.DataFrame'>\n",
      "RangeIndex: 200000 entries, 0 to 199999\n",
      "Data columns (total 24 columns):\n",
      " #   Column  Non-Null Count   Dtype \n",
      "---  ------  --------------   ----- \n",
      " 0   id      200000 non-null  int64 \n",
      " 1   bin_0   200000 non-null  int64 \n",
      " 2   bin_1   200000 non-null  int64 \n",
      " 3   bin_2   200000 non-null  int64 \n",
      " 4   bin_3   200000 non-null  object\n",
      " 5   bin_4   200000 non-null  object\n",
      " 6   nom_0   200000 non-null  object\n",
      " 7   nom_1   200000 non-null  object\n",
      " 8   nom_2   200000 non-null  object\n",
      " 9   nom_3   200000 non-null  object\n",
      " 10  nom_4   200000 non-null  object\n",
      " 11  nom_5   200000 non-null  object\n",
      " 12  nom_6   200000 non-null  object\n",
      " 13  nom_7   200000 non-null  object\n",
      " 14  nom_8   200000 non-null  object\n",
      " 15  nom_9   200000 non-null  object\n",
      " 16  ord_0   200000 non-null  int64 \n",
      " 17  ord_1   200000 non-null  object\n",
      " 18  ord_2   200000 non-null  object\n",
      " 19  ord_3   200000 non-null  object\n",
      " 20  ord_4   200000 non-null  object\n",
      " 21  ord_5   200000 non-null  object\n",
      " 22  day     200000 non-null  int64 \n",
      " 23  month   200000 non-null  int64 \n",
      "dtypes: int64(7), object(17)\n",
      "memory usage: 36.6+ MB\n"
     ]
    }
   ],
   "source": [
    "test.info()"
   ]
  },
  {
   "cell_type": "code",
   "execution_count": 7,
   "id": "f3ee19a7",
   "metadata": {
    "execution": {
     "iopub.execute_input": "2022-05-08T13:23:53.928764Z",
     "iopub.status.busy": "2022-05-08T13:23:53.928526Z",
     "iopub.status.idle": "2022-05-08T13:23:53.934201Z",
     "shell.execute_reply": "2022-05-08T13:23:53.933410Z"
    },
    "papermill": {
     "duration": 0.04517,
     "end_time": "2022-05-08T13:23:53.936690",
     "exception": false,
     "start_time": "2022-05-08T13:23:53.891520",
     "status": "completed"
    },
    "tags": []
   },
   "outputs": [
    {
     "name": "stdout",
     "output_type": "stream",
     "text": [
      "Dimension of train: (300000, 25)\n",
      "Dimension of test: (200000, 24)\n"
     ]
    }
   ],
   "source": [
    "print('Dimension of train:',train.shape) \n",
    "print('Dimension of test:',test.shape)"
   ]
  },
  {
   "cell_type": "markdown",
   "id": "783c70ff",
   "metadata": {
    "papermill": {
     "duration": 0.071122,
     "end_time": "2022-05-08T13:23:54.048908",
     "exception": false,
     "start_time": "2022-05-08T13:23:53.977786",
     "status": "completed"
    },
    "tags": []
   },
   "source": [
    "****Binary Variables****"
   ]
  },
  {
   "cell_type": "code",
   "execution_count": 8,
   "id": "c35919c4",
   "metadata": {
    "execution": {
     "iopub.execute_input": "2022-05-08T13:23:54.183053Z",
     "iopub.status.busy": "2022-05-08T13:23:54.182642Z",
     "iopub.status.idle": "2022-05-08T13:23:54.694777Z",
     "shell.execute_reply": "2022-05-08T13:23:54.693935Z"
    },
    "papermill": {
     "duration": 0.58196,
     "end_time": "2022-05-08T13:23:54.696834",
     "exception": false,
     "start_time": "2022-05-08T13:23:54.114874",
     "status": "completed"
    },
    "tags": []
   },
   "outputs": [
    {
     "data": {
      "text/plain": [
       "id        300000\n",
       "bin_0          2\n",
       "bin_1          2\n",
       "bin_2          2\n",
       "bin_3          2\n",
       "bin_4          2\n",
       "nom_0          3\n",
       "nom_1          6\n",
       "nom_2          6\n",
       "nom_3          6\n",
       "nom_4          4\n",
       "nom_5        222\n",
       "nom_6        522\n",
       "nom_7       1220\n",
       "nom_8       2215\n",
       "nom_9      11981\n",
       "ord_0          3\n",
       "ord_1          5\n",
       "ord_2          6\n",
       "ord_3         15\n",
       "ord_4         26\n",
       "ord_5        192\n",
       "day            7\n",
       "month         12\n",
       "target         2\n",
       "dtype: int64"
      ]
     },
     "execution_count": 8,
     "metadata": {},
     "output_type": "execute_result"
    }
   ],
   "source": [
    "unique_values=train.nunique()\n",
    "unique_values"
   ]
  },
  {
   "cell_type": "code",
   "execution_count": 9,
   "id": "93011e5f",
   "metadata": {
    "execution": {
     "iopub.execute_input": "2022-05-08T13:23:54.771686Z",
     "iopub.status.busy": "2022-05-08T13:23:54.771476Z",
     "iopub.status.idle": "2022-05-08T13:23:54.787918Z",
     "shell.execute_reply": "2022-05-08T13:23:54.787291Z"
    },
    "papermill": {
     "duration": 0.055894,
     "end_time": "2022-05-08T13:23:54.789610",
     "exception": false,
     "start_time": "2022-05-08T13:23:54.733716",
     "status": "completed"
    },
    "tags": []
   },
   "outputs": [],
   "source": [
    "bin_columns=['bin_0','bin_1','bin_3','bin_4']\n",
    "binary_data_1=pd.DataFrame(train,columns=bin_columns)\n",
    "binary_data_2=pd.DataFrame(test,columns=bin_columns)"
   ]
  },
  {
   "cell_type": "code",
   "execution_count": 10,
   "id": "ac4b5a93",
   "metadata": {
    "execution": {
     "iopub.execute_input": "2022-05-08T13:23:54.863746Z",
     "iopub.status.busy": "2022-05-08T13:23:54.863464Z",
     "iopub.status.idle": "2022-05-08T13:23:55.603714Z",
     "shell.execute_reply": "2022-05-08T13:23:55.602994Z"
    },
    "papermill": {
     "duration": 0.779707,
     "end_time": "2022-05-08T13:23:55.605849",
     "exception": false,
     "start_time": "2022-05-08T13:23:54.826142",
     "status": "completed"
    },
    "tags": []
   },
   "outputs": [],
   "source": [
    "train['bin_3'] = train['bin_3'].apply(lambda x: 0 if x == 'F' else 1)\n",
    "train['bin_4'] = train['bin_4'].apply(lambda x: 0 if x == 'N' else 1)\n",
    "\n",
    "test['bin_3'] = test['bin_3'].apply(lambda x: 0 if x == 'F' else 1)\n",
    "test['bin_4'] = test['bin_4'].apply(lambda x: 0 if x == 'N' else 1)"
   ]
  },
  {
   "cell_type": "code",
   "execution_count": 11,
   "id": "7c100f5e",
   "metadata": {
    "execution": {
     "iopub.execute_input": "2022-05-08T13:23:55.681319Z",
     "iopub.status.busy": "2022-05-08T13:23:55.680727Z",
     "iopub.status.idle": "2022-05-08T13:23:55.700692Z",
     "shell.execute_reply": "2022-05-08T13:23:55.699970Z"
    },
    "papermill": {
     "duration": 0.059274,
     "end_time": "2022-05-08T13:23:55.702324",
     "exception": false,
     "start_time": "2022-05-08T13:23:55.643050",
     "status": "completed"
    },
    "tags": []
   },
   "outputs": [
    {
     "data": {
      "text/html": [
       "<div>\n",
       "<style scoped>\n",
       "    .dataframe tbody tr th:only-of-type {\n",
       "        vertical-align: middle;\n",
       "    }\n",
       "\n",
       "    .dataframe tbody tr th {\n",
       "        vertical-align: top;\n",
       "    }\n",
       "\n",
       "    .dataframe thead th {\n",
       "        text-align: right;\n",
       "    }\n",
       "</style>\n",
       "<table border=\"1\" class=\"dataframe\">\n",
       "  <thead>\n",
       "    <tr style=\"text-align: right;\">\n",
       "      <th></th>\n",
       "      <th>id</th>\n",
       "      <th>bin_0</th>\n",
       "      <th>bin_1</th>\n",
       "      <th>bin_2</th>\n",
       "      <th>bin_3</th>\n",
       "      <th>bin_4</th>\n",
       "      <th>nom_0</th>\n",
       "      <th>nom_1</th>\n",
       "      <th>nom_2</th>\n",
       "      <th>nom_3</th>\n",
       "      <th>...</th>\n",
       "      <th>nom_9</th>\n",
       "      <th>ord_0</th>\n",
       "      <th>ord_1</th>\n",
       "      <th>ord_2</th>\n",
       "      <th>ord_3</th>\n",
       "      <th>ord_4</th>\n",
       "      <th>ord_5</th>\n",
       "      <th>day</th>\n",
       "      <th>month</th>\n",
       "      <th>target</th>\n",
       "    </tr>\n",
       "  </thead>\n",
       "  <tbody>\n",
       "    <tr>\n",
       "      <th>0</th>\n",
       "      <td>0</td>\n",
       "      <td>0</td>\n",
       "      <td>0</td>\n",
       "      <td>0</td>\n",
       "      <td>1</td>\n",
       "      <td>1</td>\n",
       "      <td>Green</td>\n",
       "      <td>Triangle</td>\n",
       "      <td>Snake</td>\n",
       "      <td>Finland</td>\n",
       "      <td>...</td>\n",
       "      <td>2f4cb3d51</td>\n",
       "      <td>2</td>\n",
       "      <td>Grandmaster</td>\n",
       "      <td>Cold</td>\n",
       "      <td>h</td>\n",
       "      <td>D</td>\n",
       "      <td>kr</td>\n",
       "      <td>2</td>\n",
       "      <td>2</td>\n",
       "      <td>0</td>\n",
       "    </tr>\n",
       "    <tr>\n",
       "      <th>1</th>\n",
       "      <td>1</td>\n",
       "      <td>0</td>\n",
       "      <td>1</td>\n",
       "      <td>0</td>\n",
       "      <td>1</td>\n",
       "      <td>1</td>\n",
       "      <td>Green</td>\n",
       "      <td>Trapezoid</td>\n",
       "      <td>Hamster</td>\n",
       "      <td>Russia</td>\n",
       "      <td>...</td>\n",
       "      <td>f83c56c21</td>\n",
       "      <td>1</td>\n",
       "      <td>Grandmaster</td>\n",
       "      <td>Hot</td>\n",
       "      <td>a</td>\n",
       "      <td>A</td>\n",
       "      <td>bF</td>\n",
       "      <td>7</td>\n",
       "      <td>8</td>\n",
       "      <td>0</td>\n",
       "    </tr>\n",
       "    <tr>\n",
       "      <th>2</th>\n",
       "      <td>2</td>\n",
       "      <td>0</td>\n",
       "      <td>0</td>\n",
       "      <td>0</td>\n",
       "      <td>0</td>\n",
       "      <td>1</td>\n",
       "      <td>Blue</td>\n",
       "      <td>Trapezoid</td>\n",
       "      <td>Lion</td>\n",
       "      <td>Russia</td>\n",
       "      <td>...</td>\n",
       "      <td>ae6800dd0</td>\n",
       "      <td>1</td>\n",
       "      <td>Expert</td>\n",
       "      <td>Lava Hot</td>\n",
       "      <td>h</td>\n",
       "      <td>R</td>\n",
       "      <td>Jc</td>\n",
       "      <td>7</td>\n",
       "      <td>2</td>\n",
       "      <td>0</td>\n",
       "    </tr>\n",
       "    <tr>\n",
       "      <th>3</th>\n",
       "      <td>3</td>\n",
       "      <td>0</td>\n",
       "      <td>1</td>\n",
       "      <td>0</td>\n",
       "      <td>0</td>\n",
       "      <td>1</td>\n",
       "      <td>Red</td>\n",
       "      <td>Trapezoid</td>\n",
       "      <td>Snake</td>\n",
       "      <td>Canada</td>\n",
       "      <td>...</td>\n",
       "      <td>8270f0d71</td>\n",
       "      <td>1</td>\n",
       "      <td>Grandmaster</td>\n",
       "      <td>Boiling Hot</td>\n",
       "      <td>i</td>\n",
       "      <td>D</td>\n",
       "      <td>kW</td>\n",
       "      <td>2</td>\n",
       "      <td>1</td>\n",
       "      <td>1</td>\n",
       "    </tr>\n",
       "    <tr>\n",
       "      <th>4</th>\n",
       "      <td>4</td>\n",
       "      <td>0</td>\n",
       "      <td>0</td>\n",
       "      <td>0</td>\n",
       "      <td>0</td>\n",
       "      <td>0</td>\n",
       "      <td>Red</td>\n",
       "      <td>Trapezoid</td>\n",
       "      <td>Lion</td>\n",
       "      <td>Canada</td>\n",
       "      <td>...</td>\n",
       "      <td>b164b72a7</td>\n",
       "      <td>1</td>\n",
       "      <td>Grandmaster</td>\n",
       "      <td>Freezing</td>\n",
       "      <td>a</td>\n",
       "      <td>R</td>\n",
       "      <td>qP</td>\n",
       "      <td>7</td>\n",
       "      <td>8</td>\n",
       "      <td>0</td>\n",
       "    </tr>\n",
       "  </tbody>\n",
       "</table>\n",
       "<p>5 rows × 25 columns</p>\n",
       "</div>"
      ],
      "text/plain": [
       "   id  bin_0  bin_1  bin_2  bin_3  bin_4  nom_0      nom_1    nom_2    nom_3  \\\n",
       "0   0      0      0      0      1      1  Green   Triangle    Snake  Finland   \n",
       "1   1      0      1      0      1      1  Green  Trapezoid  Hamster   Russia   \n",
       "2   2      0      0      0      0      1   Blue  Trapezoid     Lion   Russia   \n",
       "3   3      0      1      0      0      1    Red  Trapezoid    Snake   Canada   \n",
       "4   4      0      0      0      0      0    Red  Trapezoid     Lion   Canada   \n",
       "\n",
       "   ...      nom_9 ord_0        ord_1        ord_2 ord_3 ord_4  ord_5 day  \\\n",
       "0  ...  2f4cb3d51     2  Grandmaster         Cold     h     D     kr   2   \n",
       "1  ...  f83c56c21     1  Grandmaster          Hot     a     A     bF   7   \n",
       "2  ...  ae6800dd0     1       Expert     Lava Hot     h     R     Jc   7   \n",
       "3  ...  8270f0d71     1  Grandmaster  Boiling Hot     i     D     kW   2   \n",
       "4  ...  b164b72a7     1  Grandmaster     Freezing     a     R     qP   7   \n",
       "\n",
       "  month target  \n",
       "0     2      0  \n",
       "1     8      0  \n",
       "2     2      0  \n",
       "3     1      1  \n",
       "4     8      0  \n",
       "\n",
       "[5 rows x 25 columns]"
      ]
     },
     "execution_count": 11,
     "metadata": {},
     "output_type": "execute_result"
    }
   ],
   "source": [
    "train.head()"
   ]
  },
  {
   "cell_type": "markdown",
   "id": "4d000ed7",
   "metadata": {
    "papermill": {
     "duration": 0.037257,
     "end_time": "2022-05-08T13:23:55.776796",
     "exception": false,
     "start_time": "2022-05-08T13:23:55.739539",
     "status": "completed"
    },
    "tags": []
   },
   "source": [
    "****NOMINAL VARIABLES****"
   ]
  },
  {
   "cell_type": "code",
   "execution_count": 12,
   "id": "b749aca5",
   "metadata": {
    "execution": {
     "iopub.execute_input": "2022-05-08T13:23:55.852380Z",
     "iopub.status.busy": "2022-05-08T13:23:55.852165Z",
     "iopub.status.idle": "2022-05-08T13:23:55.892959Z",
     "shell.execute_reply": "2022-05-08T13:23:55.892158Z"
    },
    "papermill": {
     "duration": 0.081105,
     "end_time": "2022-05-08T13:23:55.895240",
     "exception": false,
     "start_time": "2022-05-08T13:23:55.814135",
     "status": "completed"
    },
    "tags": []
   },
   "outputs": [
    {
     "data": {
      "text/html": [
       "<div>\n",
       "<style scoped>\n",
       "    .dataframe tbody tr th:only-of-type {\n",
       "        vertical-align: middle;\n",
       "    }\n",
       "\n",
       "    .dataframe tbody tr th {\n",
       "        vertical-align: top;\n",
       "    }\n",
       "\n",
       "    .dataframe thead th {\n",
       "        text-align: right;\n",
       "    }\n",
       "</style>\n",
       "<table border=\"1\" class=\"dataframe\">\n",
       "  <thead>\n",
       "    <tr style=\"text-align: right;\">\n",
       "      <th></th>\n",
       "      <th>nom_0</th>\n",
       "      <th>nom_1</th>\n",
       "      <th>nom_2</th>\n",
       "      <th>nom_3</th>\n",
       "      <th>nom_4</th>\n",
       "      <th>nom_5</th>\n",
       "      <th>nom_6</th>\n",
       "      <th>nom_7</th>\n",
       "      <th>nom_8</th>\n",
       "      <th>nom_9</th>\n",
       "    </tr>\n",
       "  </thead>\n",
       "  <tbody>\n",
       "    <tr>\n",
       "      <th>0</th>\n",
       "      <td>Green</td>\n",
       "      <td>Triangle</td>\n",
       "      <td>Snake</td>\n",
       "      <td>Finland</td>\n",
       "      <td>Bassoon</td>\n",
       "      <td>50f116bcf</td>\n",
       "      <td>3ac1b8814</td>\n",
       "      <td>68f6ad3e9</td>\n",
       "      <td>c389000ab</td>\n",
       "      <td>2f4cb3d51</td>\n",
       "    </tr>\n",
       "    <tr>\n",
       "      <th>1</th>\n",
       "      <td>Green</td>\n",
       "      <td>Trapezoid</td>\n",
       "      <td>Hamster</td>\n",
       "      <td>Russia</td>\n",
       "      <td>Piano</td>\n",
       "      <td>b3b4d25d0</td>\n",
       "      <td>fbcb50fc1</td>\n",
       "      <td>3b6dd5612</td>\n",
       "      <td>4cd920251</td>\n",
       "      <td>f83c56c21</td>\n",
       "    </tr>\n",
       "    <tr>\n",
       "      <th>2</th>\n",
       "      <td>Blue</td>\n",
       "      <td>Trapezoid</td>\n",
       "      <td>Lion</td>\n",
       "      <td>Russia</td>\n",
       "      <td>Theremin</td>\n",
       "      <td>3263bdce5</td>\n",
       "      <td>0922e3cb8</td>\n",
       "      <td>a6a36f527</td>\n",
       "      <td>de9c9f684</td>\n",
       "      <td>ae6800dd0</td>\n",
       "    </tr>\n",
       "    <tr>\n",
       "      <th>3</th>\n",
       "      <td>Red</td>\n",
       "      <td>Trapezoid</td>\n",
       "      <td>Snake</td>\n",
       "      <td>Canada</td>\n",
       "      <td>Oboe</td>\n",
       "      <td>f12246592</td>\n",
       "      <td>50d7ad46a</td>\n",
       "      <td>ec69236eb</td>\n",
       "      <td>4ade6ab69</td>\n",
       "      <td>8270f0d71</td>\n",
       "    </tr>\n",
       "    <tr>\n",
       "      <th>4</th>\n",
       "      <td>Red</td>\n",
       "      <td>Trapezoid</td>\n",
       "      <td>Lion</td>\n",
       "      <td>Canada</td>\n",
       "      <td>Oboe</td>\n",
       "      <td>5b0f5acd5</td>\n",
       "      <td>1fe17a1fd</td>\n",
       "      <td>04ddac2be</td>\n",
       "      <td>cb43ab175</td>\n",
       "      <td>b164b72a7</td>\n",
       "    </tr>\n",
       "  </tbody>\n",
       "</table>\n",
       "</div>"
      ],
      "text/plain": [
       "   nom_0      nom_1    nom_2    nom_3     nom_4      nom_5      nom_6  \\\n",
       "0  Green   Triangle    Snake  Finland   Bassoon  50f116bcf  3ac1b8814   \n",
       "1  Green  Trapezoid  Hamster   Russia     Piano  b3b4d25d0  fbcb50fc1   \n",
       "2   Blue  Trapezoid     Lion   Russia  Theremin  3263bdce5  0922e3cb8   \n",
       "3    Red  Trapezoid    Snake   Canada      Oboe  f12246592  50d7ad46a   \n",
       "4    Red  Trapezoid     Lion   Canada      Oboe  5b0f5acd5  1fe17a1fd   \n",
       "\n",
       "       nom_7      nom_8      nom_9  \n",
       "0  68f6ad3e9  c389000ab  2f4cb3d51  \n",
       "1  3b6dd5612  4cd920251  f83c56c21  \n",
       "2  a6a36f527  de9c9f684  ae6800dd0  \n",
       "3  ec69236eb  4ade6ab69  8270f0d71  \n",
       "4  04ddac2be  cb43ab175  b164b72a7  "
      ]
     },
     "execution_count": 12,
     "metadata": {},
     "output_type": "execute_result"
    }
   ],
   "source": [
    "nominal=[f'nom_{i}' for i in range(10)]\n",
    "nominal_data=train.loc[:,nominal]\n",
    "nominal_data.head()"
   ]
  },
  {
   "cell_type": "markdown",
   "id": "db35146d",
   "metadata": {
    "papermill": {
     "duration": 0.041104,
     "end_time": "2022-05-08T13:23:55.974392",
     "exception": false,
     "start_time": "2022-05-08T13:23:55.933288",
     "status": "completed"
    },
    "tags": []
   },
   "source": [
    "*********Encoding the nominal features from nom_0 to nom_4 with oneHotEncoding****************"
   ]
  },
  {
   "cell_type": "code",
   "execution_count": 13,
   "id": "de7b9c9f",
   "metadata": {
    "execution": {
     "iopub.execute_input": "2022-05-08T13:23:56.058672Z",
     "iopub.status.busy": "2022-05-08T13:23:56.058462Z",
     "iopub.status.idle": "2022-05-08T13:23:56.410665Z",
     "shell.execute_reply": "2022-05-08T13:23:56.409915Z"
    },
    "papermill": {
     "duration": 0.396561,
     "end_time": "2022-05-08T13:23:56.412768",
     "exception": false,
     "start_time": "2022-05-08T13:23:56.016207",
     "status": "completed"
    },
    "tags": []
   },
   "outputs": [],
   "source": [
    "##Now extract the nominal variables for one hot encoding of train and test data.##\n",
    "one_hot_train = pd.get_dummies(train[['nom_0', 'nom_1', 'nom_2', 'nom_3', 'nom_4']], drop_first = True)\n",
    "\n",
    "one_hot_test = pd.get_dummies(test[['nom_0', 'nom_1', 'nom_2', 'nom_3', 'nom_4']], drop_first = True)\n",
    "\n",
    "###Droping the variables###\n",
    "train.drop(['nom_0', 'nom_1', 'nom_2', 'nom_3', 'nom_4'], axis=1, inplace=True)\n",
    "test.drop(['nom_0', 'nom_1', 'nom_2', 'nom_3', 'nom_4'], axis=1, inplace=True)\n"
   ]
  },
  {
   "cell_type": "markdown",
   "id": "24e9e7a2",
   "metadata": {
    "papermill": {
     "duration": 0.04186,
     "end_time": "2022-05-08T13:23:56.493462",
     "exception": false,
     "start_time": "2022-05-08T13:23:56.451602",
     "status": "completed"
    },
    "tags": []
   },
   "source": [
    "*********Nominal Features for High Cardinality Features with frequency encoder*******************\n"
   ]
  },
  {
   "cell_type": "code",
   "execution_count": 14,
   "id": "338184b3",
   "metadata": {
    "execution": {
     "iopub.execute_input": "2022-05-08T13:23:56.571188Z",
     "iopub.status.busy": "2022-05-08T13:23:56.570539Z",
     "iopub.status.idle": "2022-05-08T13:24:09.363558Z",
     "shell.execute_reply": "2022-05-08T13:24:09.362826Z"
    },
    "papermill": {
     "duration": 12.833912,
     "end_time": "2022-05-08T13:24:09.365636",
     "exception": false,
     "start_time": "2022-05-08T13:23:56.531724",
     "status": "completed"
    },
    "tags": []
   },
   "outputs": [],
   "source": [
    "high_card = ['nom_5', 'nom_6', 'nom_7', 'nom_8', 'nom_9'] \n",
    "for col in high_card:\n",
    "    enc_nom_1 = (train.groupby(col).size()) / len(train)\n",
    "    train[f'freq_{col}'] = train[col].apply(lambda x : enc_nom_1[x])\n",
    "    enc_nom_2 = (test.groupby(col).size()) / len(test)\n",
    "    test[f'freq_{col}'] = test[col].apply(lambda x : enc_nom_2[x])\n",
    "\n",
    "    '''Droping the variables'''\n",
    "train.drop(['nom_5', 'nom_6', 'nom_7', 'nom_8', 'nom_9'], axis=1, inplace=True)\n",
    "test.drop(['nom_5', 'nom_6', 'nom_7', 'nom_8', 'nom_9'], axis=1, inplace=True)          "
   ]
  },
  {
   "cell_type": "markdown",
   "id": "961cd793",
   "metadata": {
    "papermill": {
     "duration": 0.037996,
     "end_time": "2022-05-08T13:24:09.442413",
     "exception": false,
     "start_time": "2022-05-08T13:24:09.404417",
     "status": "completed"
    },
    "tags": []
   },
   "source": [
    "****ORDINAL ENCODING****"
   ]
  },
  {
   "cell_type": "code",
   "execution_count": 15,
   "id": "b08c8474",
   "metadata": {
    "execution": {
     "iopub.execute_input": "2022-05-08T13:24:09.520449Z",
     "iopub.status.busy": "2022-05-08T13:24:09.519631Z",
     "iopub.status.idle": "2022-05-08T13:24:09.539513Z",
     "shell.execute_reply": "2022-05-08T13:24:09.538696Z"
    },
    "papermill": {
     "duration": 0.060824,
     "end_time": "2022-05-08T13:24:09.541212",
     "exception": false,
     "start_time": "2022-05-08T13:24:09.480388",
     "status": "completed"
    },
    "tags": []
   },
   "outputs": [
    {
     "data": {
      "text/html": [
       "<div>\n",
       "<style scoped>\n",
       "    .dataframe tbody tr th:only-of-type {\n",
       "        vertical-align: middle;\n",
       "    }\n",
       "\n",
       "    .dataframe tbody tr th {\n",
       "        vertical-align: top;\n",
       "    }\n",
       "\n",
       "    .dataframe thead th {\n",
       "        text-align: right;\n",
       "    }\n",
       "</style>\n",
       "<table border=\"1\" class=\"dataframe\">\n",
       "  <thead>\n",
       "    <tr style=\"text-align: right;\">\n",
       "      <th></th>\n",
       "      <th>ord_0</th>\n",
       "      <th>ord_1</th>\n",
       "      <th>ord_2</th>\n",
       "      <th>ord_3</th>\n",
       "      <th>ord_4</th>\n",
       "      <th>ord_5</th>\n",
       "    </tr>\n",
       "  </thead>\n",
       "  <tbody>\n",
       "    <tr>\n",
       "      <th>0</th>\n",
       "      <td>2</td>\n",
       "      <td>Grandmaster</td>\n",
       "      <td>Cold</td>\n",
       "      <td>h</td>\n",
       "      <td>D</td>\n",
       "      <td>kr</td>\n",
       "    </tr>\n",
       "    <tr>\n",
       "      <th>1</th>\n",
       "      <td>1</td>\n",
       "      <td>Grandmaster</td>\n",
       "      <td>Hot</td>\n",
       "      <td>a</td>\n",
       "      <td>A</td>\n",
       "      <td>bF</td>\n",
       "    </tr>\n",
       "    <tr>\n",
       "      <th>2</th>\n",
       "      <td>1</td>\n",
       "      <td>Expert</td>\n",
       "      <td>Lava Hot</td>\n",
       "      <td>h</td>\n",
       "      <td>R</td>\n",
       "      <td>Jc</td>\n",
       "    </tr>\n",
       "    <tr>\n",
       "      <th>3</th>\n",
       "      <td>1</td>\n",
       "      <td>Grandmaster</td>\n",
       "      <td>Boiling Hot</td>\n",
       "      <td>i</td>\n",
       "      <td>D</td>\n",
       "      <td>kW</td>\n",
       "    </tr>\n",
       "    <tr>\n",
       "      <th>4</th>\n",
       "      <td>1</td>\n",
       "      <td>Grandmaster</td>\n",
       "      <td>Freezing</td>\n",
       "      <td>a</td>\n",
       "      <td>R</td>\n",
       "      <td>qP</td>\n",
       "    </tr>\n",
       "  </tbody>\n",
       "</table>\n",
       "</div>"
      ],
      "text/plain": [
       "   ord_0        ord_1        ord_2 ord_3 ord_4 ord_5\n",
       "0      2  Grandmaster         Cold     h     D    kr\n",
       "1      1  Grandmaster          Hot     a     A    bF\n",
       "2      1       Expert     Lava Hot     h     R    Jc\n",
       "3      1  Grandmaster  Boiling Hot     i     D    kW\n",
       "4      1  Grandmaster     Freezing     a     R    qP"
      ]
     },
     "execution_count": 15,
     "metadata": {},
     "output_type": "execute_result"
    }
   ],
   "source": [
    "ordinal=[f'ord_{i}' for i in range(6)]\n",
    "ordinal_data=train.loc[:,ordinal]\n",
    "ordinal_data.head()\n",
    "\n"
   ]
  },
  {
   "cell_type": "code",
   "execution_count": 16,
   "id": "66f79b39",
   "metadata": {
    "execution": {
     "iopub.execute_input": "2022-05-08T13:24:09.620537Z",
     "iopub.status.busy": "2022-05-08T13:24:09.620052Z",
     "iopub.status.idle": "2022-05-08T13:24:09.720935Z",
     "shell.execute_reply": "2022-05-08T13:24:09.720102Z"
    },
    "papermill": {
     "duration": 0.143824,
     "end_time": "2022-05-08T13:24:09.723794",
     "exception": false,
     "start_time": "2022-05-08T13:24:09.579970",
     "status": "completed"
    },
    "tags": []
   },
   "outputs": [
    {
     "name": "stdout",
     "output_type": "stream",
     "text": [
      "for ord_0: unique values are:[2 1 3]\n",
      "for ord_1: unique values are:['Grandmaster' 'Expert' 'Novice' 'Contributor' 'Master']\n",
      "for ord_2: unique values are:['Cold' 'Hot' 'Lava Hot' 'Boiling Hot' 'Freezing' 'Warm']\n",
      "for ord_3: unique values are:['h' 'a' 'i' 'j' 'g' 'e' 'd' 'b' 'k' 'f' 'l' 'n' 'o' 'c' 'm']\n",
      "for ord_4: unique values are:['D' 'A' 'R' 'E' 'P' 'K' 'V' 'Q' 'Z' 'L' 'F' 'T' 'U' 'S' 'Y' 'B' 'H' 'J'\n",
      " 'N' 'G' 'W' 'I' 'O' 'C' 'X' 'M']\n",
      "for ord_5: unique values are:['kr' 'bF' 'Jc' 'kW' 'qP' 'PZ' 'wy' 'Ed' 'qo' 'CZ' 'qX' 'su' 'dP' 'aP'\n",
      " 'MV' 'oC' 'RL' 'fh' 'gJ' 'Hj' 'TR' 'CL' 'Sc' 'eQ' 'kC' 'qK' 'dh' 'gM'\n",
      " 'Jf' 'fO' 'Eg' 'KZ' 'Vx' 'Fo' 'sV' 'eb' 'YC' 'RG' 'Ye' 'qA' 'lL' 'Qh'\n",
      " 'Bd' 'be' 'hT' 'lF' 'nX' 'kK' 'av' 'uS' 'Jt' 'PA' 'Er' 'Qb' 'od' 'ut'\n",
      " 'Dx' 'Xi' 'on' 'Dc' 'sD' 'rZ' 'Uu' 'sn' 'yc' 'Gb' 'Kq' 'dQ' 'hp' 'kL'\n",
      " 'je' 'CU' 'Fd' 'PQ' 'Bn' 'ex' 'hh' 'ac' 'rp' 'dE' 'oG' 'oK' 'cp' 'mm'\n",
      " 'vK' 'ek' 'dO' 'XI' 'CM' 'Vf' 'aO' 'qv' 'jp' 'Zq' 'Qo' 'DN' 'TZ' 'ke'\n",
      " 'cG' 'tP' 'ud' 'tv' 'aM' 'xy' 'lx' 'To' 'uy' 'ZS' 'vy' 'ZR' 'AP' 'GJ'\n",
      " 'Wv' 'ri' 'qw' 'Xh' 'FI' 'nh' 'KR' 'dB' 'BE' 'Bb' 'mc' 'MC' 'tM' 'NV'\n",
      " 'ih' 'IK' 'Ob' 'RP' 'dN' 'us' 'dZ' 'yN' 'Nf' 'QM' 'jV' 'sY' 'wu' 'SB'\n",
      " 'UO' 'Mx' 'JX' 'Ry' 'Uk' 'uJ' 'LE' 'ps' 'kE' 'MO' 'kw' 'yY' 'zU' 'bJ'\n",
      " 'Kf' 'ck' 'mb' 'Os' 'Ps' 'Ml' 'Ai' 'Wc' 'GD' 'll' 'aF' 'iT' 'cA' 'WE'\n",
      " 'Gx' 'Nk' 'OR' 'Rm' 'BA' 'eG' 'cW' 'jS' 'DH' 'hL' 'Mf' 'Yb' 'Aj' 'oH'\n",
      " 'Zc' 'qJ' 'eg' 'xP' 'vq' 'Id' 'pa' 'ux' 'kU' 'Cl']\n"
     ]
    }
   ],
   "source": [
    "for ord in ordinal:\n",
    "    print(f'for {ord}: unique values are:{ordinal_data[ord].unique()}')"
   ]
  },
  {
   "cell_type": "code",
   "execution_count": 17,
   "id": "8b0f8719",
   "metadata": {
    "execution": {
     "iopub.execute_input": "2022-05-08T13:24:09.802982Z",
     "iopub.status.busy": "2022-05-08T13:24:09.802742Z",
     "iopub.status.idle": "2022-05-08T13:24:11.902017Z",
     "shell.execute_reply": "2022-05-08T13:24:11.901284Z"
    },
    "papermill": {
     "duration": 2.141624,
     "end_time": "2022-05-08T13:24:11.904410",
     "exception": false,
     "start_time": "2022-05-08T13:24:09.762786",
     "status": "completed"
    },
    "tags": []
   },
   "outputs": [],
   "source": [
    "# ordinal encoding on train data (ord_1,ord_2,ord_3,ord_4)\n",
    "train.ord_1.replace(to_replace = ['Novice', 'Contributor','Expert', 'Master', 'Grandmaster'],\n",
    "                         value = [0, 1, 2, 3, 4], inplace = True)\n",
    "\n",
    "train.ord_2.replace(to_replace = ['Freezing', 'Cold', 'Warm', 'Hot','Boiling Hot', 'Lava Hot'],\n",
    "                         value = [0, 1, 2, 3, 4, 5], inplace = True)\n",
    "\n",
    "train.ord_3.replace(to_replace = ['a', 'b', 'c', 'd', 'e', 'f', 'g','h', 'i', 'j', 'k', 'l', 'm', 'n', 'o'],\n",
    "                         value = [0, 1, 2, 3, 4, 5, 6, 7, 8, 9, 10, 11, 12, 13, 14], inplace = True)\n",
    "\n",
    "train.ord_4.replace(to_replace = ['A', 'B', 'C', 'D', 'E', 'F', 'G', 'H', 'I','J', 'K', 'L', 'M', 'N', 'O', \n",
    "                                     'P', 'Q', 'R','S', 'T', 'U', 'V', 'W', 'X', 'Y', 'Z'],\n",
    "                         value = [0, 1, 2, 3, 4, 5, 6, 7, 8, 9, 10, 11, 12, 13, 14, 15, 16, 17, 18, 19, 20, 21, \n",
    "                                  22, 23, 24, 25], inplace = True)\n",
    "test.ord_1.replace(to_replace = ['Novice', 'Contributor','Expert', 'Master', 'Grandmaster'],\n",
    "                         value = [0, 1, 2, 3, 4], inplace = True)\n",
    "\n",
    "test.ord_2.replace(to_replace = ['Freezing', 'Cold', 'Warm', 'Hot','Boiling Hot', 'Lava Hot'],\n",
    "                         value = [0, 1, 2, 3, 4, 5], inplace = True)\n",
    "\n",
    "test.ord_3.replace(to_replace = ['a', 'b', 'c', 'd', 'e', 'f', 'g','h', 'i', 'j', 'k', 'l', 'm', 'n', 'o'],\n",
    "                         value = [0, 1, 2, 3, 4, 5, 6, 7, 8, 9, 10, 11, 12, 13, 14], inplace = True)\n",
    "\n",
    "test.ord_4.replace(to_replace = ['A', 'B', 'C', 'D', 'E', 'F', 'G', 'H', 'I','J', 'K', 'L', 'M', 'N', 'O', \n",
    "                                       'P', 'Q', 'R','S', 'T', 'U', 'V', 'W', 'X', 'Y', 'Z'],\n",
    "                         value = [0, 1, 2, 3, 4, 5, 6, 7, 8, 9, 10, 11, 12, 13, 14, 15, 16, 17, 18, 19, 20, 21, \n",
    "                                  22, 23, 24, 25], inplace = True)\n"
   ]
  },
  {
   "cell_type": "markdown",
   "id": "14117ed8",
   "metadata": {
    "papermill": {
     "duration": 0.047812,
     "end_time": "2022-05-08T13:24:11.991053",
     "exception": false,
     "start_time": "2022-05-08T13:24:11.943241",
     "status": "completed"
    },
    "tags": []
   },
   "source": [
    "**Encoding \"ord_5**\""
   ]
  },
  {
   "cell_type": "code",
   "execution_count": 18,
   "id": "9db03030",
   "metadata": {
    "execution": {
     "iopub.execute_input": "2022-05-08T13:24:12.070622Z",
     "iopub.status.busy": "2022-05-08T13:24:12.070376Z",
     "iopub.status.idle": "2022-05-08T13:24:12.369845Z",
     "shell.execute_reply": "2022-05-08T13:24:12.369084Z"
    },
    "papermill": {
     "duration": 0.341722,
     "end_time": "2022-05-08T13:24:12.372350",
     "exception": false,
     "start_time": "2022-05-08T13:24:12.030628",
     "status": "completed"
    },
    "tags": []
   },
   "outputs": [],
   "source": [
    "'''Option 4: Simply sort their values by string of ord_5'''\n",
    "ord_5 = sorted(list(set(train['ord_5'].values)))\n",
    "ord_5 = dict(zip(ord_5, range(len(ord_5))))\n",
    "train.loc[:, 'ord_5'] = train['ord_5'].apply(lambda x: ord_5[x]).astype(float)\n",
    "test.loc[:, 'ord_5'] = test['ord_5'].apply(lambda x: ord_5[x]).astype(float)"
   ]
  },
  {
   "cell_type": "code",
   "execution_count": 19,
   "id": "6082c5e5",
   "metadata": {
    "execution": {
     "iopub.execute_input": "2022-05-08T13:24:12.455143Z",
     "iopub.status.busy": "2022-05-08T13:24:12.454871Z",
     "iopub.status.idle": "2022-05-08T13:24:12.471863Z",
     "shell.execute_reply": "2022-05-08T13:24:12.471160Z"
    },
    "papermill": {
     "duration": 0.059091,
     "end_time": "2022-05-08T13:24:12.473626",
     "exception": false,
     "start_time": "2022-05-08T13:24:12.414535",
     "status": "completed"
    },
    "tags": []
   },
   "outputs": [
    {
     "data": {
      "text/html": [
       "<div>\n",
       "<style scoped>\n",
       "    .dataframe tbody tr th:only-of-type {\n",
       "        vertical-align: middle;\n",
       "    }\n",
       "\n",
       "    .dataframe tbody tr th {\n",
       "        vertical-align: top;\n",
       "    }\n",
       "\n",
       "    .dataframe thead th {\n",
       "        text-align: right;\n",
       "    }\n",
       "</style>\n",
       "<table border=\"1\" class=\"dataframe\">\n",
       "  <thead>\n",
       "    <tr style=\"text-align: right;\">\n",
       "      <th></th>\n",
       "      <th>id</th>\n",
       "      <th>bin_0</th>\n",
       "      <th>bin_1</th>\n",
       "      <th>bin_2</th>\n",
       "      <th>bin_3</th>\n",
       "      <th>bin_4</th>\n",
       "      <th>ord_0</th>\n",
       "      <th>ord_1</th>\n",
       "      <th>ord_2</th>\n",
       "      <th>ord_3</th>\n",
       "      <th>ord_4</th>\n",
       "      <th>ord_5</th>\n",
       "      <th>day</th>\n",
       "      <th>month</th>\n",
       "      <th>target</th>\n",
       "      <th>freq_nom_5</th>\n",
       "      <th>freq_nom_6</th>\n",
       "      <th>freq_nom_7</th>\n",
       "      <th>freq_nom_8</th>\n",
       "      <th>freq_nom_9</th>\n",
       "    </tr>\n",
       "  </thead>\n",
       "  <tbody>\n",
       "    <tr>\n",
       "      <th>0</th>\n",
       "      <td>0</td>\n",
       "      <td>0</td>\n",
       "      <td>0</td>\n",
       "      <td>0</td>\n",
       "      <td>1</td>\n",
       "      <td>1</td>\n",
       "      <td>2</td>\n",
       "      <td>4</td>\n",
       "      <td>1</td>\n",
       "      <td>7</td>\n",
       "      <td>3</td>\n",
       "      <td>136.0</td>\n",
       "      <td>2</td>\n",
       "      <td>2</td>\n",
       "      <td>0</td>\n",
       "      <td>0.008647</td>\n",
       "      <td>0.003827</td>\n",
       "      <td>0.000803</td>\n",
       "      <td>0.000903</td>\n",
       "      <td>0.000063</td>\n",
       "    </tr>\n",
       "    <tr>\n",
       "      <th>1</th>\n",
       "      <td>1</td>\n",
       "      <td>0</td>\n",
       "      <td>1</td>\n",
       "      <td>0</td>\n",
       "      <td>1</td>\n",
       "      <td>1</td>\n",
       "      <td>1</td>\n",
       "      <td>4</td>\n",
       "      <td>3</td>\n",
       "      <td>0</td>\n",
       "      <td>0</td>\n",
       "      <td>93.0</td>\n",
       "      <td>7</td>\n",
       "      <td>8</td>\n",
       "      <td>0</td>\n",
       "      <td>0.002640</td>\n",
       "      <td>0.002807</td>\n",
       "      <td>0.000957</td>\n",
       "      <td>0.000370</td>\n",
       "      <td>0.000043</td>\n",
       "    </tr>\n",
       "    <tr>\n",
       "      <th>2</th>\n",
       "      <td>2</td>\n",
       "      <td>0</td>\n",
       "      <td>0</td>\n",
       "      <td>0</td>\n",
       "      <td>0</td>\n",
       "      <td>1</td>\n",
       "      <td>1</td>\n",
       "      <td>2</td>\n",
       "      <td>5</td>\n",
       "      <td>7</td>\n",
       "      <td>17</td>\n",
       "      <td>31.0</td>\n",
       "      <td>7</td>\n",
       "      <td>2</td>\n",
       "      <td>0</td>\n",
       "      <td>0.008413</td>\n",
       "      <td>0.003897</td>\n",
       "      <td>0.001583</td>\n",
       "      <td>0.000927</td>\n",
       "      <td>0.000097</td>\n",
       "    </tr>\n",
       "    <tr>\n",
       "      <th>3</th>\n",
       "      <td>3</td>\n",
       "      <td>0</td>\n",
       "      <td>1</td>\n",
       "      <td>0</td>\n",
       "      <td>0</td>\n",
       "      <td>1</td>\n",
       "      <td>1</td>\n",
       "      <td>4</td>\n",
       "      <td>4</td>\n",
       "      <td>8</td>\n",
       "      <td>3</td>\n",
       "      <td>134.0</td>\n",
       "      <td>2</td>\n",
       "      <td>1</td>\n",
       "      <td>1</td>\n",
       "      <td>0.003250</td>\n",
       "      <td>0.003917</td>\n",
       "      <td>0.001473</td>\n",
       "      <td>0.000677</td>\n",
       "      <td>0.000147</td>\n",
       "    </tr>\n",
       "    <tr>\n",
       "      <th>4</th>\n",
       "      <td>4</td>\n",
       "      <td>0</td>\n",
       "      <td>0</td>\n",
       "      <td>0</td>\n",
       "      <td>0</td>\n",
       "      <td>0</td>\n",
       "      <td>1</td>\n",
       "      <td>4</td>\n",
       "      <td>0</td>\n",
       "      <td>0</td>\n",
       "      <td>17</td>\n",
       "      <td>158.0</td>\n",
       "      <td>7</td>\n",
       "      <td>8</td>\n",
       "      <td>0</td>\n",
       "      <td>0.006700</td>\n",
       "      <td>0.003857</td>\n",
       "      <td>0.001453</td>\n",
       "      <td>0.000690</td>\n",
       "      <td>0.000117</td>\n",
       "    </tr>\n",
       "  </tbody>\n",
       "</table>\n",
       "</div>"
      ],
      "text/plain": [
       "   id  bin_0  bin_1  bin_2  bin_3  bin_4  ord_0  ord_1  ord_2  ord_3  ord_4  \\\n",
       "0   0      0      0      0      1      1      2      4      1      7      3   \n",
       "1   1      0      1      0      1      1      1      4      3      0      0   \n",
       "2   2      0      0      0      0      1      1      2      5      7     17   \n",
       "3   3      0      1      0      0      1      1      4      4      8      3   \n",
       "4   4      0      0      0      0      0      1      4      0      0     17   \n",
       "\n",
       "   ord_5  day  month  target  freq_nom_5  freq_nom_6  freq_nom_7  freq_nom_8  \\\n",
       "0  136.0    2      2       0    0.008647    0.003827    0.000803    0.000903   \n",
       "1   93.0    7      8       0    0.002640    0.002807    0.000957    0.000370   \n",
       "2   31.0    7      2       0    0.008413    0.003897    0.001583    0.000927   \n",
       "3  134.0    2      1       1    0.003250    0.003917    0.001473    0.000677   \n",
       "4  158.0    7      8       0    0.006700    0.003857    0.001453    0.000690   \n",
       "\n",
       "   freq_nom_9  \n",
       "0    0.000063  \n",
       "1    0.000043  \n",
       "2    0.000097  \n",
       "3    0.000147  \n",
       "4    0.000117  "
      ]
     },
     "execution_count": 19,
     "metadata": {},
     "output_type": "execute_result"
    }
   ],
   "source": [
    "train.head()"
   ]
  },
  {
   "cell_type": "markdown",
   "id": "0a634c37",
   "metadata": {
    "papermill": {
     "duration": 0.038768,
     "end_time": "2022-05-08T13:24:12.554258",
     "exception": false,
     "start_time": "2022-05-08T13:24:12.515490",
     "status": "completed"
    },
    "tags": []
   },
   "source": [
    "*****Cyclical Encoding**********"
   ]
  },
  {
   "cell_type": "code",
   "execution_count": 20,
   "id": "c8552d50",
   "metadata": {
    "execution": {
     "iopub.execute_input": "2022-05-08T13:24:12.633780Z",
     "iopub.status.busy": "2022-05-08T13:24:12.633548Z",
     "iopub.status.idle": "2022-05-08T13:24:12.764888Z",
     "shell.execute_reply": "2022-05-08T13:24:12.764147Z"
    },
    "papermill": {
     "duration": 0.17372,
     "end_time": "2022-05-08T13:24:12.767065",
     "exception": false,
     "start_time": "2022-05-08T13:24:12.593345",
     "status": "completed"
    },
    "tags": []
   },
   "outputs": [],
   "source": [
    "def cyclical_encode(data, col, max_val):\n",
    "    data[col + '_sin'] = np.sin(2 * np.pi * data[col]/max_val)\n",
    "    data[col + '_cos'] = np.cos(2 * np.pi * data[col]/max_val)\n",
    "    return data\n",
    "\n",
    "train = cyclical_encode(train, 'day', 7)\n",
    "test = cyclical_encode(test, 'day', 7) \n",
    "\n",
    "train = cyclical_encode(train, 'month', 12)\n",
    "test = cyclical_encode(test, 'month', 12)\n",
    "\n",
    "train.drop(['day','month'],inplace=True,axis=1)\n",
    "test.drop(['day','month'],inplace=True,axis=1)"
   ]
  },
  {
   "cell_type": "code",
   "execution_count": 21,
   "id": "a8c9625d",
   "metadata": {
    "execution": {
     "iopub.execute_input": "2022-05-08T13:24:12.846731Z",
     "iopub.status.busy": "2022-05-08T13:24:12.846512Z",
     "iopub.status.idle": "2022-05-08T13:24:12.871745Z",
     "shell.execute_reply": "2022-05-08T13:24:12.871075Z"
    },
    "papermill": {
     "duration": 0.067056,
     "end_time": "2022-05-08T13:24:12.873552",
     "exception": false,
     "start_time": "2022-05-08T13:24:12.806496",
     "status": "completed"
    },
    "tags": []
   },
   "outputs": [],
   "source": [
    "train_encoded = pd.concat([one_hot_train, train], axis = 1)\n",
    "test_encoded = pd.concat([one_hot_test, test], axis = 1)"
   ]
  },
  {
   "cell_type": "code",
   "execution_count": 22,
   "id": "54d9b8db",
   "metadata": {
    "execution": {
     "iopub.execute_input": "2022-05-08T13:24:12.953240Z",
     "iopub.status.busy": "2022-05-08T13:24:12.952688Z",
     "iopub.status.idle": "2022-05-08T13:24:12.990538Z",
     "shell.execute_reply": "2022-05-08T13:24:12.989652Z"
    },
    "papermill": {
     "duration": 0.080279,
     "end_time": "2022-05-08T13:24:12.993167",
     "exception": false,
     "start_time": "2022-05-08T13:24:12.912888",
     "status": "completed"
    },
    "tags": []
   },
   "outputs": [
    {
     "name": "stdout",
     "output_type": "stream",
     "text": [
      "<class 'pandas.core.frame.DataFrame'>\n",
      "RangeIndex: 300000 entries, 0 to 299999\n",
      "Data columns (total 42 columns):\n",
      " #   Column            Non-Null Count   Dtype  \n",
      "---  ------            --------------   -----  \n",
      " 0   nom_0_Green       300000 non-null  uint8  \n",
      " 1   nom_0_Red         300000 non-null  uint8  \n",
      " 2   nom_1_Polygon     300000 non-null  uint8  \n",
      " 3   nom_1_Square      300000 non-null  uint8  \n",
      " 4   nom_1_Star        300000 non-null  uint8  \n",
      " 5   nom_1_Trapezoid   300000 non-null  uint8  \n",
      " 6   nom_1_Triangle    300000 non-null  uint8  \n",
      " 7   nom_2_Cat         300000 non-null  uint8  \n",
      " 8   nom_2_Dog         300000 non-null  uint8  \n",
      " 9   nom_2_Hamster     300000 non-null  uint8  \n",
      " 10  nom_2_Lion        300000 non-null  uint8  \n",
      " 11  nom_2_Snake       300000 non-null  uint8  \n",
      " 12  nom_3_China       300000 non-null  uint8  \n",
      " 13  nom_3_Costa Rica  300000 non-null  uint8  \n",
      " 14  nom_3_Finland     300000 non-null  uint8  \n",
      " 15  nom_3_India       300000 non-null  uint8  \n",
      " 16  nom_3_Russia      300000 non-null  uint8  \n",
      " 17  nom_4_Oboe        300000 non-null  uint8  \n",
      " 18  nom_4_Piano       300000 non-null  uint8  \n",
      " 19  nom_4_Theremin    300000 non-null  uint8  \n",
      " 20  id                300000 non-null  int64  \n",
      " 21  bin_0             300000 non-null  int64  \n",
      " 22  bin_1             300000 non-null  int64  \n",
      " 23  bin_2             300000 non-null  int64  \n",
      " 24  bin_3             300000 non-null  int64  \n",
      " 25  bin_4             300000 non-null  int64  \n",
      " 26  ord_0             300000 non-null  int64  \n",
      " 27  ord_1             300000 non-null  int64  \n",
      " 28  ord_2             300000 non-null  int64  \n",
      " 29  ord_3             300000 non-null  int64  \n",
      " 30  ord_4             300000 non-null  int64  \n",
      " 31  ord_5             300000 non-null  float64\n",
      " 32  target            300000 non-null  int64  \n",
      " 33  freq_nom_5        300000 non-null  float64\n",
      " 34  freq_nom_6        300000 non-null  float64\n",
      " 35  freq_nom_7        300000 non-null  float64\n",
      " 36  freq_nom_8        300000 non-null  float64\n",
      " 37  freq_nom_9        300000 non-null  float64\n",
      " 38  day_sin           300000 non-null  float64\n",
      " 39  day_cos           300000 non-null  float64\n",
      " 40  month_sin         300000 non-null  float64\n",
      " 41  month_cos         300000 non-null  float64\n",
      "dtypes: float64(10), int64(12), uint8(20)\n",
      "memory usage: 56.1 MB\n"
     ]
    }
   ],
   "source": [
    "train_encoded.info()"
   ]
  },
  {
   "cell_type": "code",
   "execution_count": 23,
   "id": "c0ad7bd9",
   "metadata": {
    "execution": {
     "iopub.execute_input": "2022-05-08T13:24:13.073955Z",
     "iopub.status.busy": "2022-05-08T13:24:13.073741Z",
     "iopub.status.idle": "2022-05-08T13:24:13.092770Z",
     "shell.execute_reply": "2022-05-08T13:24:13.092115Z"
    },
    "papermill": {
     "duration": 0.060812,
     "end_time": "2022-05-08T13:24:13.094392",
     "exception": false,
     "start_time": "2022-05-08T13:24:13.033580",
     "status": "completed"
    },
    "tags": []
   },
   "outputs": [
    {
     "data": {
      "text/html": [
       "<div>\n",
       "<style scoped>\n",
       "    .dataframe tbody tr th:only-of-type {\n",
       "        vertical-align: middle;\n",
       "    }\n",
       "\n",
       "    .dataframe tbody tr th {\n",
       "        vertical-align: top;\n",
       "    }\n",
       "\n",
       "    .dataframe thead th {\n",
       "        text-align: right;\n",
       "    }\n",
       "</style>\n",
       "<table border=\"1\" class=\"dataframe\">\n",
       "  <thead>\n",
       "    <tr style=\"text-align: right;\">\n",
       "      <th></th>\n",
       "      <th>nom_0_Green</th>\n",
       "      <th>nom_0_Red</th>\n",
       "      <th>nom_1_Polygon</th>\n",
       "      <th>nom_1_Square</th>\n",
       "      <th>nom_1_Star</th>\n",
       "      <th>nom_1_Trapezoid</th>\n",
       "      <th>nom_1_Triangle</th>\n",
       "      <th>nom_2_Cat</th>\n",
       "      <th>nom_2_Dog</th>\n",
       "      <th>nom_2_Hamster</th>\n",
       "      <th>...</th>\n",
       "      <th>target</th>\n",
       "      <th>freq_nom_5</th>\n",
       "      <th>freq_nom_6</th>\n",
       "      <th>freq_nom_7</th>\n",
       "      <th>freq_nom_8</th>\n",
       "      <th>freq_nom_9</th>\n",
       "      <th>day_sin</th>\n",
       "      <th>day_cos</th>\n",
       "      <th>month_sin</th>\n",
       "      <th>month_cos</th>\n",
       "    </tr>\n",
       "  </thead>\n",
       "  <tbody>\n",
       "    <tr>\n",
       "      <th>0</th>\n",
       "      <td>1</td>\n",
       "      <td>0</td>\n",
       "      <td>0</td>\n",
       "      <td>0</td>\n",
       "      <td>0</td>\n",
       "      <td>0</td>\n",
       "      <td>1</td>\n",
       "      <td>0</td>\n",
       "      <td>0</td>\n",
       "      <td>0</td>\n",
       "      <td>...</td>\n",
       "      <td>0</td>\n",
       "      <td>0.008647</td>\n",
       "      <td>0.003827</td>\n",
       "      <td>0.000803</td>\n",
       "      <td>0.000903</td>\n",
       "      <td>0.000063</td>\n",
       "      <td>9.749279e-01</td>\n",
       "      <td>-0.222521</td>\n",
       "      <td>0.866025</td>\n",
       "      <td>0.500000</td>\n",
       "    </tr>\n",
       "    <tr>\n",
       "      <th>1</th>\n",
       "      <td>1</td>\n",
       "      <td>0</td>\n",
       "      <td>0</td>\n",
       "      <td>0</td>\n",
       "      <td>0</td>\n",
       "      <td>1</td>\n",
       "      <td>0</td>\n",
       "      <td>0</td>\n",
       "      <td>0</td>\n",
       "      <td>1</td>\n",
       "      <td>...</td>\n",
       "      <td>0</td>\n",
       "      <td>0.002640</td>\n",
       "      <td>0.002807</td>\n",
       "      <td>0.000957</td>\n",
       "      <td>0.000370</td>\n",
       "      <td>0.000043</td>\n",
       "      <td>-2.449294e-16</td>\n",
       "      <td>1.000000</td>\n",
       "      <td>-0.866025</td>\n",
       "      <td>-0.500000</td>\n",
       "    </tr>\n",
       "    <tr>\n",
       "      <th>2</th>\n",
       "      <td>0</td>\n",
       "      <td>0</td>\n",
       "      <td>0</td>\n",
       "      <td>0</td>\n",
       "      <td>0</td>\n",
       "      <td>1</td>\n",
       "      <td>0</td>\n",
       "      <td>0</td>\n",
       "      <td>0</td>\n",
       "      <td>0</td>\n",
       "      <td>...</td>\n",
       "      <td>0</td>\n",
       "      <td>0.008413</td>\n",
       "      <td>0.003897</td>\n",
       "      <td>0.001583</td>\n",
       "      <td>0.000927</td>\n",
       "      <td>0.000097</td>\n",
       "      <td>-2.449294e-16</td>\n",
       "      <td>1.000000</td>\n",
       "      <td>0.866025</td>\n",
       "      <td>0.500000</td>\n",
       "    </tr>\n",
       "    <tr>\n",
       "      <th>3</th>\n",
       "      <td>0</td>\n",
       "      <td>1</td>\n",
       "      <td>0</td>\n",
       "      <td>0</td>\n",
       "      <td>0</td>\n",
       "      <td>1</td>\n",
       "      <td>0</td>\n",
       "      <td>0</td>\n",
       "      <td>0</td>\n",
       "      <td>0</td>\n",
       "      <td>...</td>\n",
       "      <td>1</td>\n",
       "      <td>0.003250</td>\n",
       "      <td>0.003917</td>\n",
       "      <td>0.001473</td>\n",
       "      <td>0.000677</td>\n",
       "      <td>0.000147</td>\n",
       "      <td>9.749279e-01</td>\n",
       "      <td>-0.222521</td>\n",
       "      <td>0.500000</td>\n",
       "      <td>0.866025</td>\n",
       "    </tr>\n",
       "    <tr>\n",
       "      <th>4</th>\n",
       "      <td>0</td>\n",
       "      <td>1</td>\n",
       "      <td>0</td>\n",
       "      <td>0</td>\n",
       "      <td>0</td>\n",
       "      <td>1</td>\n",
       "      <td>0</td>\n",
       "      <td>0</td>\n",
       "      <td>0</td>\n",
       "      <td>0</td>\n",
       "      <td>...</td>\n",
       "      <td>0</td>\n",
       "      <td>0.006700</td>\n",
       "      <td>0.003857</td>\n",
       "      <td>0.001453</td>\n",
       "      <td>0.000690</td>\n",
       "      <td>0.000117</td>\n",
       "      <td>-2.449294e-16</td>\n",
       "      <td>1.000000</td>\n",
       "      <td>-0.866025</td>\n",
       "      <td>-0.500000</td>\n",
       "    </tr>\n",
       "  </tbody>\n",
       "</table>\n",
       "<p>5 rows × 42 columns</p>\n",
       "</div>"
      ],
      "text/plain": [
       "   nom_0_Green  nom_0_Red  nom_1_Polygon  nom_1_Square  nom_1_Star  \\\n",
       "0            1          0              0             0           0   \n",
       "1            1          0              0             0           0   \n",
       "2            0          0              0             0           0   \n",
       "3            0          1              0             0           0   \n",
       "4            0          1              0             0           0   \n",
       "\n",
       "   nom_1_Trapezoid  nom_1_Triangle  nom_2_Cat  nom_2_Dog  nom_2_Hamster  ...  \\\n",
       "0                0               1          0          0              0  ...   \n",
       "1                1               0          0          0              1  ...   \n",
       "2                1               0          0          0              0  ...   \n",
       "3                1               0          0          0              0  ...   \n",
       "4                1               0          0          0              0  ...   \n",
       "\n",
       "   target  freq_nom_5  freq_nom_6  freq_nom_7  freq_nom_8  freq_nom_9  \\\n",
       "0       0    0.008647    0.003827    0.000803    0.000903    0.000063   \n",
       "1       0    0.002640    0.002807    0.000957    0.000370    0.000043   \n",
       "2       0    0.008413    0.003897    0.001583    0.000927    0.000097   \n",
       "3       1    0.003250    0.003917    0.001473    0.000677    0.000147   \n",
       "4       0    0.006700    0.003857    0.001453    0.000690    0.000117   \n",
       "\n",
       "        day_sin   day_cos  month_sin  month_cos  \n",
       "0  9.749279e-01 -0.222521   0.866025   0.500000  \n",
       "1 -2.449294e-16  1.000000  -0.866025  -0.500000  \n",
       "2 -2.449294e-16  1.000000   0.866025   0.500000  \n",
       "3  9.749279e-01 -0.222521   0.500000   0.866025  \n",
       "4 -2.449294e-16  1.000000  -0.866025  -0.500000  \n",
       "\n",
       "[5 rows x 42 columns]"
      ]
     },
     "execution_count": 23,
     "metadata": {},
     "output_type": "execute_result"
    }
   ],
   "source": [
    "train_encoded.head()"
   ]
  },
  {
   "cell_type": "code",
   "execution_count": 24,
   "id": "8318afe1",
   "metadata": {
    "execution": {
     "iopub.execute_input": "2022-05-08T13:24:13.176969Z",
     "iopub.status.busy": "2022-05-08T13:24:13.176468Z",
     "iopub.status.idle": "2022-05-08T13:24:13.194939Z",
     "shell.execute_reply": "2022-05-08T13:24:13.194301Z"
    },
    "papermill": {
     "duration": 0.061738,
     "end_time": "2022-05-08T13:24:13.196720",
     "exception": false,
     "start_time": "2022-05-08T13:24:13.134982",
     "status": "completed"
    },
    "tags": []
   },
   "outputs": [
    {
     "data": {
      "text/html": [
       "<div>\n",
       "<style scoped>\n",
       "    .dataframe tbody tr th:only-of-type {\n",
       "        vertical-align: middle;\n",
       "    }\n",
       "\n",
       "    .dataframe tbody tr th {\n",
       "        vertical-align: top;\n",
       "    }\n",
       "\n",
       "    .dataframe thead th {\n",
       "        text-align: right;\n",
       "    }\n",
       "</style>\n",
       "<table border=\"1\" class=\"dataframe\">\n",
       "  <thead>\n",
       "    <tr style=\"text-align: right;\">\n",
       "      <th></th>\n",
       "      <th>nom_0_Green</th>\n",
       "      <th>nom_0_Red</th>\n",
       "      <th>nom_1_Polygon</th>\n",
       "      <th>nom_1_Square</th>\n",
       "      <th>nom_1_Star</th>\n",
       "      <th>nom_1_Trapezoid</th>\n",
       "      <th>nom_1_Triangle</th>\n",
       "      <th>nom_2_Cat</th>\n",
       "      <th>nom_2_Dog</th>\n",
       "      <th>nom_2_Hamster</th>\n",
       "      <th>...</th>\n",
       "      <th>ord_5</th>\n",
       "      <th>freq_nom_5</th>\n",
       "      <th>freq_nom_6</th>\n",
       "      <th>freq_nom_7</th>\n",
       "      <th>freq_nom_8</th>\n",
       "      <th>freq_nom_9</th>\n",
       "      <th>day_sin</th>\n",
       "      <th>day_cos</th>\n",
       "      <th>month_sin</th>\n",
       "      <th>month_cos</th>\n",
       "    </tr>\n",
       "  </thead>\n",
       "  <tbody>\n",
       "    <tr>\n",
       "      <th>0</th>\n",
       "      <td>0</td>\n",
       "      <td>0</td>\n",
       "      <td>0</td>\n",
       "      <td>0</td>\n",
       "      <td>0</td>\n",
       "      <td>0</td>\n",
       "      <td>1</td>\n",
       "      <td>0</td>\n",
       "      <td>0</td>\n",
       "      <td>0</td>\n",
       "      <td>...</td>\n",
       "      <td>95.0</td>\n",
       "      <td>0.002635</td>\n",
       "      <td>0.003025</td>\n",
       "      <td>0.001145</td>\n",
       "      <td>0.000565</td>\n",
       "      <td>0.000070</td>\n",
       "      <td>-9.749279e-01</td>\n",
       "      <td>-0.222521</td>\n",
       "      <td>-5.000000e-01</td>\n",
       "      <td>8.660254e-01</td>\n",
       "    </tr>\n",
       "    <tr>\n",
       "      <th>1</th>\n",
       "      <td>0</td>\n",
       "      <td>1</td>\n",
       "      <td>0</td>\n",
       "      <td>1</td>\n",
       "      <td>0</td>\n",
       "      <td>0</td>\n",
       "      <td>0</td>\n",
       "      <td>0</td>\n",
       "      <td>0</td>\n",
       "      <td>0</td>\n",
       "      <td>...</td>\n",
       "      <td>61.0</td>\n",
       "      <td>0.006655</td>\n",
       "      <td>0.003035</td>\n",
       "      <td>0.001625</td>\n",
       "      <td>0.000860</td>\n",
       "      <td>0.000125</td>\n",
       "      <td>-2.449294e-16</td>\n",
       "      <td>1.000000</td>\n",
       "      <td>5.000000e-01</td>\n",
       "      <td>-8.660254e-01</td>\n",
       "    </tr>\n",
       "    <tr>\n",
       "      <th>2</th>\n",
       "      <td>0</td>\n",
       "      <td>0</td>\n",
       "      <td>0</td>\n",
       "      <td>1</td>\n",
       "      <td>0</td>\n",
       "      <td>0</td>\n",
       "      <td>0</td>\n",
       "      <td>0</td>\n",
       "      <td>1</td>\n",
       "      <td>0</td>\n",
       "      <td>...</td>\n",
       "      <td>172.0</td>\n",
       "      <td>0.005420</td>\n",
       "      <td>0.003860</td>\n",
       "      <td>0.000760</td>\n",
       "      <td>0.000975</td>\n",
       "      <td>0.000050</td>\n",
       "      <td>7.818315e-01</td>\n",
       "      <td>0.623490</td>\n",
       "      <td>-2.449294e-16</td>\n",
       "      <td>1.000000e+00</td>\n",
       "    </tr>\n",
       "    <tr>\n",
       "      <th>3</th>\n",
       "      <td>0</td>\n",
       "      <td>1</td>\n",
       "      <td>0</td>\n",
       "      <td>0</td>\n",
       "      <td>1</td>\n",
       "      <td>0</td>\n",
       "      <td>0</td>\n",
       "      <td>1</td>\n",
       "      <td>0</td>\n",
       "      <td>0</td>\n",
       "      <td>...</td>\n",
       "      <td>135.0</td>\n",
       "      <td>0.004290</td>\n",
       "      <td>0.003065</td>\n",
       "      <td>0.000960</td>\n",
       "      <td>0.000270</td>\n",
       "      <td>0.000105</td>\n",
       "      <td>9.749279e-01</td>\n",
       "      <td>-0.222521</td>\n",
       "      <td>1.000000e+00</td>\n",
       "      <td>6.123234e-17</td>\n",
       "    </tr>\n",
       "    <tr>\n",
       "      <th>4</th>\n",
       "      <td>0</td>\n",
       "      <td>1</td>\n",
       "      <td>0</td>\n",
       "      <td>0</td>\n",
       "      <td>0</td>\n",
       "      <td>1</td>\n",
       "      <td>0</td>\n",
       "      <td>0</td>\n",
       "      <td>1</td>\n",
       "      <td>0</td>\n",
       "      <td>...</td>\n",
       "      <td>157.0</td>\n",
       "      <td>0.008540</td>\n",
       "      <td>0.002870</td>\n",
       "      <td>0.001410</td>\n",
       "      <td>0.000830</td>\n",
       "      <td>0.000065</td>\n",
       "      <td>-4.338837e-01</td>\n",
       "      <td>-0.900969</td>\n",
       "      <td>-5.000000e-01</td>\n",
       "      <td>8.660254e-01</td>\n",
       "    </tr>\n",
       "  </tbody>\n",
       "</table>\n",
       "<p>5 rows × 41 columns</p>\n",
       "</div>"
      ],
      "text/plain": [
       "   nom_0_Green  nom_0_Red  nom_1_Polygon  nom_1_Square  nom_1_Star  \\\n",
       "0            0          0              0             0           0   \n",
       "1            0          1              0             1           0   \n",
       "2            0          0              0             1           0   \n",
       "3            0          1              0             0           1   \n",
       "4            0          1              0             0           0   \n",
       "\n",
       "   nom_1_Trapezoid  nom_1_Triangle  nom_2_Cat  nom_2_Dog  nom_2_Hamster  ...  \\\n",
       "0                0               1          0          0              0  ...   \n",
       "1                0               0          0          0              0  ...   \n",
       "2                0               0          0          1              0  ...   \n",
       "3                0               0          1          0              0  ...   \n",
       "4                1               0          0          1              0  ...   \n",
       "\n",
       "   ord_5  freq_nom_5  freq_nom_6  freq_nom_7  freq_nom_8  freq_nom_9  \\\n",
       "0   95.0    0.002635    0.003025    0.001145    0.000565    0.000070   \n",
       "1   61.0    0.006655    0.003035    0.001625    0.000860    0.000125   \n",
       "2  172.0    0.005420    0.003860    0.000760    0.000975    0.000050   \n",
       "3  135.0    0.004290    0.003065    0.000960    0.000270    0.000105   \n",
       "4  157.0    0.008540    0.002870    0.001410    0.000830    0.000065   \n",
       "\n",
       "        day_sin   day_cos     month_sin     month_cos  \n",
       "0 -9.749279e-01 -0.222521 -5.000000e-01  8.660254e-01  \n",
       "1 -2.449294e-16  1.000000  5.000000e-01 -8.660254e-01  \n",
       "2  7.818315e-01  0.623490 -2.449294e-16  1.000000e+00  \n",
       "3  9.749279e-01 -0.222521  1.000000e+00  6.123234e-17  \n",
       "4 -4.338837e-01 -0.900969 -5.000000e-01  8.660254e-01  \n",
       "\n",
       "[5 rows x 41 columns]"
      ]
     },
     "execution_count": 24,
     "metadata": {},
     "output_type": "execute_result"
    }
   ],
   "source": [
    "test_encoded.head()"
   ]
  },
  {
   "cell_type": "markdown",
   "id": "e3d9e5f1",
   "metadata": {
    "papermill": {
     "duration": 0.04019,
     "end_time": "2022-05-08T13:24:13.277745",
     "exception": false,
     "start_time": "2022-05-08T13:24:13.237555",
     "status": "completed"
    },
    "tags": []
   },
   "source": [
    "****Reduce the data set size *****"
   ]
  },
  {
   "cell_type": "code",
   "execution_count": 25,
   "id": "d0b132c3",
   "metadata": {
    "execution": {
     "iopub.execute_input": "2022-05-08T13:24:13.359965Z",
     "iopub.status.busy": "2022-05-08T13:24:13.359744Z",
     "iopub.status.idle": "2022-05-08T13:24:13.373007Z",
     "shell.execute_reply": "2022-05-08T13:24:13.372360Z"
    },
    "papermill": {
     "duration": 0.056017,
     "end_time": "2022-05-08T13:24:13.374643",
     "exception": false,
     "start_time": "2022-05-08T13:24:13.318626",
     "status": "completed"
    },
    "tags": []
   },
   "outputs": [],
   "source": [
    "def reduce_mem_usage(df):\n",
    "    \"\"\" iterate through all the columns of a dataframe and modify the data type\n",
    "        to reduce memory usage.        \n",
    "    \"\"\"\n",
    "    start_mem = df.memory_usage().sum() / 1024**2\n",
    "    print('Memory usage of dataframe is {:.2f} MB'.format(start_mem))\n",
    "    \n",
    "    for col in df.columns:\n",
    "        col_type = df[col].dtype\n",
    "        \n",
    "        if col_type != object and col_type.name != 'category' and 'datetime' not in col_type.name:\n",
    "            c_min = df[col].min()\n",
    "            c_max = df[col].max()\n",
    "            if str(col_type)[:3] == 'int':\n",
    "                if c_min > np.iinfo(np.int8).min and c_max < np.iinfo(np.int8).max:\n",
    "                    df[col] = df[col].astype(np.int8)\n",
    "                elif c_min > np.iinfo(np.int16).min and c_max < np.iinfo(np.int16).max:\n",
    "                    df[col] = df[col].astype(np.int16)\n",
    "                elif c_min > np.iinfo(np.int32).min and c_max < np.iinfo(np.int32).max:\n",
    "                    df[col] = df[col].astype(np.int32)\n",
    "                elif c_min > np.iinfo(np.int64).min and c_max < np.iinfo(np.int64).max:\n",
    "                    df[col] = df[col].astype(np.int64)  \n",
    "            else:\n",
    "                if c_min > np.finfo(np.float16).min and c_max < np.finfo(np.float16).max:\n",
    "                    df[col] = df[col].astype(np.float16)\n",
    "                elif c_min > np.finfo(np.float32).min and c_max < np.finfo(np.float32).max:\n",
    "                    df[col] = df[col].astype(np.float32)\n",
    "                else:\n",
    "                    df[col] = df[col].astype(np.float64)\n",
    "        elif 'datetime' not in col_type.name:\n",
    "            df[col] = df[col].astype('category')\n",
    "\n",
    "    end_mem = df.memory_usage().sum() / 1024**2\n",
    "    print('Memory usage after optimization is: {:.2f} MB'.format(end_mem))\n",
    "    print('Decreased by {:.1f}%'.format(100 * (start_mem - end_mem) / start_mem))\n",
    "    \n",
    "    return df"
   ]
  },
  {
   "cell_type": "code",
   "execution_count": 26,
   "id": "b1377d08",
   "metadata": {
    "execution": {
     "iopub.execute_input": "2022-05-08T13:24:13.457007Z",
     "iopub.status.busy": "2022-05-08T13:24:13.456425Z",
     "iopub.status.idle": "2022-05-08T13:24:13.756326Z",
     "shell.execute_reply": "2022-05-08T13:24:13.755396Z"
    },
    "papermill": {
     "duration": 0.344215,
     "end_time": "2022-05-08T13:24:13.759459",
     "exception": false,
     "start_time": "2022-05-08T13:24:13.415244",
     "status": "completed"
    },
    "tags": []
   },
   "outputs": [
    {
     "name": "stdout",
     "output_type": "stream",
     "text": [
      "Memory usage of dataframe is 56.08 MB\n",
      "Memory usage after optimization is: 21.46 MB\n",
      "Decreased by 61.7%\n",
      "Memory usage of dataframe is 35.86 MB\n",
      "Memory usage after optimization is: 14.11 MB\n",
      "Decreased by 60.6%\n"
     ]
    }
   ],
   "source": [
    "train_encoded = reduce_mem_usage(train_encoded)\n",
    "test_encoded = reduce_mem_usage(test_encoded)"
   ]
  },
  {
   "cell_type": "code",
   "execution_count": 27,
   "id": "658e94c0",
   "metadata": {
    "execution": {
     "iopub.execute_input": "2022-05-08T13:24:13.850068Z",
     "iopub.status.busy": "2022-05-08T13:24:13.849847Z",
     "iopub.status.idle": "2022-05-08T13:24:13.904071Z",
     "shell.execute_reply": "2022-05-08T13:24:13.903291Z"
    },
    "papermill": {
     "duration": 0.101201,
     "end_time": "2022-05-08T13:24:13.906387",
     "exception": false,
     "start_time": "2022-05-08T13:24:13.805186",
     "status": "completed"
    },
    "tags": []
   },
   "outputs": [],
   "source": [
    "'''Seting X and Y'''\n",
    "X_train = train_encoded.drop(['id', 'target'],axis = 1)\n",
    "y_train = train_encoded['target']\n",
    "X_test = test_encoded.drop(['id'], axis = 1)"
   ]
  },
  {
   "cell_type": "code",
   "execution_count": 28,
   "id": "fe19b67b",
   "metadata": {
    "execution": {
     "iopub.execute_input": "2022-05-08T13:24:13.994290Z",
     "iopub.status.busy": "2022-05-08T13:24:13.993644Z",
     "iopub.status.idle": "2022-05-08T13:24:13.998825Z",
     "shell.execute_reply": "2022-05-08T13:24:13.998130Z"
    },
    "papermill": {
     "duration": 0.051454,
     "end_time": "2022-05-08T13:24:14.001297",
     "exception": false,
     "start_time": "2022-05-08T13:24:13.949843",
     "status": "completed"
    },
    "tags": []
   },
   "outputs": [
    {
     "name": "stdout",
     "output_type": "stream",
     "text": [
      "Input matrix dimension: (300000, 40)\n",
      "Output vector dimension: (300000,)\n",
      "Test data dimension: (200000, 40)\n"
     ]
    }
   ],
   "source": [
    "print('Input matrix dimension:', X_train.shape)\n",
    "print('Output vector dimension:',y_train.shape)\n",
    "print('Test data dimension:',X_test.shape)"
   ]
  },
  {
   "cell_type": "code",
   "execution_count": 29,
   "id": "aec1d917",
   "metadata": {
    "execution": {
     "iopub.execute_input": "2022-05-08T13:24:14.087392Z",
     "iopub.status.busy": "2022-05-08T13:24:14.086945Z",
     "iopub.status.idle": "2022-05-08T13:24:14.139471Z",
     "shell.execute_reply": "2022-05-08T13:24:14.138712Z"
    },
    "papermill": {
     "duration": 0.098102,
     "end_time": "2022-05-08T13:24:14.142744",
     "exception": false,
     "start_time": "2022-05-08T13:24:14.044642",
     "status": "completed"
    },
    "tags": []
   },
   "outputs": [
    {
     "name": "stdout",
     "output_type": "stream",
     "text": [
      "<class 'pandas.core.frame.DataFrame'>\n",
      "RangeIndex: 300000 entries, 0 to 299999\n",
      "Data columns (total 40 columns):\n",
      " #   Column            Non-Null Count   Dtype  \n",
      "---  ------            --------------   -----  \n",
      " 0   nom_0_Green       300000 non-null  float16\n",
      " 1   nom_0_Red         300000 non-null  float16\n",
      " 2   nom_1_Polygon     300000 non-null  float16\n",
      " 3   nom_1_Square      300000 non-null  float16\n",
      " 4   nom_1_Star        300000 non-null  float16\n",
      " 5   nom_1_Trapezoid   300000 non-null  float16\n",
      " 6   nom_1_Triangle    300000 non-null  float16\n",
      " 7   nom_2_Cat         300000 non-null  float16\n",
      " 8   nom_2_Dog         300000 non-null  float16\n",
      " 9   nom_2_Hamster     300000 non-null  float16\n",
      " 10  nom_2_Lion        300000 non-null  float16\n",
      " 11  nom_2_Snake       300000 non-null  float16\n",
      " 12  nom_3_China       300000 non-null  float16\n",
      " 13  nom_3_Costa Rica  300000 non-null  float16\n",
      " 14  nom_3_Finland     300000 non-null  float16\n",
      " 15  nom_3_India       300000 non-null  float16\n",
      " 16  nom_3_Russia      300000 non-null  float16\n",
      " 17  nom_4_Oboe        300000 non-null  float16\n",
      " 18  nom_4_Piano       300000 non-null  float16\n",
      " 19  nom_4_Theremin    300000 non-null  float16\n",
      " 20  bin_0             300000 non-null  int8   \n",
      " 21  bin_1             300000 non-null  int8   \n",
      " 22  bin_2             300000 non-null  int8   \n",
      " 23  bin_3             300000 non-null  int8   \n",
      " 24  bin_4             300000 non-null  int8   \n",
      " 25  ord_0             300000 non-null  int8   \n",
      " 26  ord_1             300000 non-null  int8   \n",
      " 27  ord_2             300000 non-null  int8   \n",
      " 28  ord_3             300000 non-null  int8   \n",
      " 29  ord_4             300000 non-null  int8   \n",
      " 30  ord_5             300000 non-null  float16\n",
      " 31  freq_nom_5        300000 non-null  float16\n",
      " 32  freq_nom_6        300000 non-null  float16\n",
      " 33  freq_nom_7        300000 non-null  float16\n",
      " 34  freq_nom_8        300000 non-null  float16\n",
      " 35  freq_nom_9        300000 non-null  float16\n",
      " 36  day_sin           300000 non-null  float16\n",
      " 37  day_cos           300000 non-null  float16\n",
      " 38  month_sin         300000 non-null  float16\n",
      " 39  month_cos         300000 non-null  float16\n",
      "dtypes: float16(30), int8(10)\n",
      "memory usage: 20.0 MB\n"
     ]
    }
   ],
   "source": [
    "X_train.info()"
   ]
  },
  {
   "cell_type": "markdown",
   "id": "c15c84b4",
   "metadata": {
    "papermill": {
     "duration": 0.044107,
     "end_time": "2022-05-08T13:24:14.238057",
     "exception": false,
     "start_time": "2022-05-08T13:24:14.193950",
     "status": "completed"
    },
    "tags": []
   },
   "source": []
  },
  {
   "cell_type": "code",
   "execution_count": 30,
   "id": "0bf1f56e",
   "metadata": {
    "execution": {
     "iopub.execute_input": "2022-05-08T13:24:14.326530Z",
     "iopub.status.busy": "2022-05-08T13:24:14.326304Z",
     "iopub.status.idle": "2022-05-08T13:24:15.760248Z",
     "shell.execute_reply": "2022-05-08T13:24:15.759531Z"
    },
    "papermill": {
     "duration": 1.481199,
     "end_time": "2022-05-08T13:24:15.762800",
     "exception": false,
     "start_time": "2022-05-08T13:24:14.281601",
     "status": "completed"
    },
    "tags": []
   },
   "outputs": [
    {
     "data": {
      "text/plain": [
       "0.7471"
      ]
     },
     "execution_count": 30,
     "metadata": {},
     "output_type": "execute_result"
    }
   ],
   "source": [
    "from sklearn.datasets import make_classification\n",
    "from sklearn.linear_model import LogisticRegression\n",
    "from sklearn.model_selection import train_test_split\n",
    "from sklearn.pipeline import make_pipeline\n",
    "from sklearn.preprocessing import StandardScaler\n",
    "\n",
    "X, y = make_classification(random_state=42)\n",
    "X_train, X_test, y_train, y_test = train_test_split(X_train,y_train,test_size=0.2, random_state=42)\n",
    "pipe = make_pipeline(StandardScaler(), LogisticRegression())\n",
    "                     \n",
    "pipe.fit(X_train, y_train)  # apply scaling on training data\n",
    "Pipeline(steps=[('standardscaler', StandardScaler()),\n",
    "                ('logisticregression', LogisticRegression())])\n",
    "\n",
    "pipe.score(X_test, y_test)"
   ]
  },
  {
   "cell_type": "code",
   "execution_count": 31,
   "id": "067cac15",
   "metadata": {
    "execution": {
     "iopub.execute_input": "2022-05-08T13:24:15.901334Z",
     "iopub.status.busy": "2022-05-08T13:24:15.901083Z",
     "iopub.status.idle": "2022-05-08T13:24:34.761430Z",
     "shell.execute_reply": "2022-05-08T13:24:34.760769Z"
    },
    "papermill": {
     "duration": 18.923827,
     "end_time": "2022-05-08T13:24:34.763226",
     "exception": false,
     "start_time": "2022-05-08T13:24:15.839399",
     "status": "completed"
    },
    "tags": []
   },
   "outputs": [
    {
     "data": {
      "text/plain": [
       "SGDClassifier(random_state=42)"
      ]
     },
     "execution_count": 31,
     "metadata": {},
     "output_type": "execute_result"
    }
   ],
   "source": [
    "from sklearn.linear_model import SGDClassifier\n",
    "\n",
    "sgd_clf = SGDClassifier(max_iter=1000, tol=1e-3, random_state=42)\n",
    "sgd_clf.fit(X_train, y_train)"
   ]
  },
  {
   "cell_type": "code",
   "execution_count": 32,
   "id": "f71c214e",
   "metadata": {
    "execution": {
     "iopub.execute_input": "2022-05-08T13:24:34.850447Z",
     "iopub.status.busy": "2022-05-08T13:24:34.849105Z",
     "iopub.status.idle": "2022-05-08T13:24:34.887631Z",
     "shell.execute_reply": "2022-05-08T13:24:34.886944Z"
    },
    "papermill": {
     "duration": 0.083857,
     "end_time": "2022-05-08T13:24:34.889873",
     "exception": false,
     "start_time": "2022-05-08T13:24:34.806016",
     "status": "completed"
    },
    "tags": []
   },
   "outputs": [
    {
     "data": {
      "text/plain": [
       "array([0, 0, 1, ..., 1, 0, 0], dtype=int8)"
      ]
     },
     "execution_count": 32,
     "metadata": {},
     "output_type": "execute_result"
    }
   ],
   "source": [
    "sgd_clf.predict(X_test)"
   ]
  },
  {
   "cell_type": "code",
   "execution_count": 33,
   "id": "03b6b1b8",
   "metadata": {
    "execution": {
     "iopub.execute_input": "2022-05-08T13:24:35.034524Z",
     "iopub.status.busy": "2022-05-08T13:24:35.034302Z",
     "iopub.status.idle": "2022-05-08T13:25:12.885723Z",
     "shell.execute_reply": "2022-05-08T13:25:12.884751Z"
    },
    "papermill": {
     "duration": 37.993283,
     "end_time": "2022-05-08T13:25:12.961071",
     "exception": false,
     "start_time": "2022-05-08T13:24:34.967788",
     "status": "completed"
    },
    "tags": []
   },
   "outputs": [
    {
     "data": {
      "text/plain": [
       "array([0.6954125, 0.6989375, 0.7166375])"
      ]
     },
     "execution_count": 33,
     "metadata": {},
     "output_type": "execute_result"
    }
   ],
   "source": [
    "from sklearn.model_selection import cross_val_score\n",
    "cross_val_score(sgd_clf, X_train, y_train, cv=3, scoring=\"accuracy\")"
   ]
  },
  {
   "cell_type": "code",
   "execution_count": 34,
   "id": "d6c0691e",
   "metadata": {
    "execution": {
     "iopub.execute_input": "2022-05-08T13:25:13.063988Z",
     "iopub.status.busy": "2022-05-08T13:25:13.063764Z",
     "iopub.status.idle": "2022-05-08T13:25:55.518904Z",
     "shell.execute_reply": "2022-05-08T13:25:55.518147Z"
    },
    "papermill": {
     "duration": 42.566215,
     "end_time": "2022-05-08T13:25:55.585691",
     "exception": false,
     "start_time": "2022-05-08T13:25:13.019476",
     "status": "completed"
    },
    "tags": []
   },
   "outputs": [
    {
     "name": "stdout",
     "output_type": "stream",
     "text": [
      "\n",
      "XGBClassifier(base_score=0.5, booster='gbtree', callbacks=None,\n",
      "              colsample_bylevel=1, colsample_bynode=1, colsample_bytree=1,\n",
      "              early_stopping_rounds=None, enable_categorical=False,\n",
      "              eval_metric=None, gamma=0, gpu_id=-1, grow_policy='depthwise',\n",
      "              importance_type=None, interaction_constraints='',\n",
      "              learning_rate=0.300000012, max_bin=256, max_cat_to_onehot=4,\n",
      "              max_delta_step=0, max_depth=6, max_leaves=0, min_child_weight=1,\n",
      "              missing=nan, monotone_constraints='()', n_estimators=100,\n",
      "              n_jobs=0, num_parallel_tree=1, predictor='auto', random_state=0,\n",
      "              reg_alpha=0, reg_lambda=1, ...)\n"
     ]
    }
   ],
   "source": [
    "    from sklearn import metrics\n",
    "    import xgboost as xgb\n",
    "    model = xgb.XGBClassifier()\n",
    "    model.fit(X_train, y_train)\n",
    "    print(); print(model)"
   ]
  },
  {
   "cell_type": "code",
   "execution_count": 35,
   "id": "a80d1f9a",
   "metadata": {
    "execution": {
     "iopub.execute_input": "2022-05-08T13:25:55.717388Z",
     "iopub.status.busy": "2022-05-08T13:25:55.717146Z",
     "iopub.status.idle": "2022-05-08T13:25:55.855926Z",
     "shell.execute_reply": "2022-05-08T13:25:55.855386Z"
    },
    "papermill": {
     "duration": 0.200483,
     "end_time": "2022-05-08T13:25:55.857779",
     "exception": false,
     "start_time": "2022-05-08T13:25:55.657296",
     "status": "completed"
    },
    "tags": []
   },
   "outputs": [
    {
     "data": {
      "text/plain": [
       "0.74785"
      ]
     },
     "execution_count": 35,
     "metadata": {},
     "output_type": "execute_result"
    }
   ],
   "source": [
    "expected_y  = y_test\n",
    "predicted_y = model.predict(X_test)\n",
    "from sklearn.metrics import accuracy_score\n",
    "accuracy = accuracy_score(expected_y,predicted_y)\n",
    "accuracy\n"
   ]
  }
 ],
 "metadata": {
  "kernelspec": {
   "display_name": "Python 3",
   "language": "python",
   "name": "python3"
  },
  "language_info": {
   "codemirror_mode": {
    "name": "ipython",
    "version": 3
   },
   "file_extension": ".py",
   "mimetype": "text/x-python",
   "name": "python",
   "nbconvert_exporter": "python",
   "pygments_lexer": "ipython3",
   "version": "3.7.12"
  },
  "papermill": {
   "default_parameters": {},
   "duration": 135.267792,
   "end_time": "2022-05-08T13:25:57.022077",
   "environment_variables": {},
   "exception": null,
   "input_path": "__notebook__.ipynb",
   "output_path": "__notebook__.ipynb",
   "parameters": {},
   "start_time": "2022-05-08T13:23:41.754285",
   "version": "2.3.4"
  }
 },
 "nbformat": 4,
 "nbformat_minor": 5
}
